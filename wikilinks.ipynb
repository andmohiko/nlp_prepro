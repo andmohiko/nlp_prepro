{
 "cells": [
  {
   "cell_type": "code",
   "execution_count": 98,
   "metadata": {},
   "outputs": [],
   "source": [
    "import requests\n",
    "import urllib.parse\n",
    "import pandas as pd\n",
    "import matplotlib.pyplot as plt\n",
    "from bs4 import BeautifulSoup\n",
    "import pprint\n",
    "%matplotlib inline"
   ]
  },
  {
   "cell_type": "code",
   "execution_count": 7,
   "metadata": {},
   "outputs": [],
   "source": [
    "r = requests.get('https://ja.wikipedia.org/wiki/%E3%83%A1%E3%82%BF%E6%A7%8B%E6%96%87%E5%A4%89%E6%95%B0')\n",
    "soup = BeautifulSoup(r.content, \"html.parser\")"
   ]
  },
  {
   "cell_type": "code",
   "execution_count": 8,
   "metadata": {},
   "outputs": [
    {
     "data": {
      "text/plain": [
       "<!DOCTYPE html>\n",
       "\n",
       "<html class=\"client-nojs\" dir=\"ltr\" lang=\"ja\">\n",
       "<head>\n",
       "<meta charset=\"utf-8\"/>\n",
       "<title>メタ構文変数 - Wikipedia</title>\n",
       "<script>document.documentElement.className=\"client-js\";RLCONF={\"wgBreakFrames\":!1,\"wgSeparatorTransformTable\":[\"\",\"\"],\"wgDigitTransformTable\":[\"\",\"\"],\"wgDefaultDateFormat\":\"ja\",\"wgMonthNames\":[\"\",\"1月\",\"2月\",\"3月\",\"4月\",\"5月\",\"6月\",\"7月\",\"8月\",\"9月\",\"10月\",\"11月\",\"12月\"],\"wgMonthNamesShort\":[\"\",\"1月\",\"2月\",\"3月\",\"4月\",\"5月\",\"6月\",\"7月\",\"8月\",\"9月\",\"10月\",\"11月\",\"12月\"],\"wgRequestId\":\"XdRoygpAAEYAAE1gaS4AAAAI\",\"wgCSPNonce\":!1,\"wgCanonicalNamespace\":\"\",\"wgCanonicalSpecialPageName\":!1,\"wgNamespaceNumber\":0,\"wgPageName\":\"メタ構文変数\",\"wgTitle\":\"メタ構文変数\",\"wgCurRevisionId\":75063823,\"wgRevisionId\":75063823,\"wgArticleId\":136800,\"wgIsArticle\":!0,\"wgIsRedirect\":!1,\"wgAction\":\"view\",\"wgUserName\":null,\"wgUserGroups\":[\"*\"],\"wgCategories\":[\"出典を必要とする記事/2011年1月\",\"プログラミング\",\"プログラミング言語の構文\",\"名前\",\"コンピュータの文化\"],\"wgPageContentLanguage\":\"ja\",\"wgPageContentModel\":\"wikitext\",\n",
       "\"wgRelevantPageName\":\"メタ構文変数\",\"wgRelevantArticleId\":136800,\"wgIsProbablyEditable\":!0,\"wgRelevantPageIsProbablyEditable\":!0,\"wgRestrictionEdit\":[],\"wgRestrictionMove\":[],\"wgMediaViewerOnClick\":!0,\"wgMediaViewerEnabledByDefault\":!0,\"wgPopupsReferencePreviews\":!1,\"wgPopupsConflictsWithNavPopupGadget\":!1,\"wgVisualEditor\":{\"pageLanguageCode\":\"ja\",\"pageLanguageDir\":\"ltr\",\"pageVariantFallbacks\":\"ja\"},\"wgMFDisplayWikibaseDescriptions\":{\"search\":!0,\"nearby\":!0,\"watchlist\":!0,\"tagline\":!0},\"wgWMESchemaEditAttemptStepOversample\":!1,\"wgULSCurrentAutonym\":\"日本語\",\"wgNoticeProject\":\"wikipedia\",\"wgWikibaseItemId\":\"Q100023\",\"wgCentralAuthMobileDomain\":!1,\"wgEditSubmitButtonLabelPublish\":!0,\"wgSiteNoticeId\":\"2.44\"};RLSTATE={\"ext.globalCssJs.user.styles\":\"ready\",\"site.styles\":\"ready\",\"noscript\":\"ready\",\"user.styles\":\"ready\",\"ext.globalCssJs.user\":\"ready\",\"user\":\"ready\",\"user.options\":\"loading\",\"user.tokens\":\"loading\",\"ext.cite.styles\":\"ready\",\n",
       "\"mediawiki.legacy.shared\":\"ready\",\"mediawiki.legacy.commonPrint\":\"ready\",\"mediawiki.toc.styles\":\"ready\",\"wikibase.client.init\":\"ready\",\"ext.visualEditor.desktopArticleTarget.noscript\":\"ready\",\"ext.uls.interlanguage\":\"ready\",\"ext.wikimediaBadges\":\"ready\",\"ext.dismissableSiteNotice.styles\":\"ready\",\"mediawiki.skinning.interface\":\"ready\",\"skins.vector.styles\":\"ready\"};RLPAGEMODULES=[\"ext.cite.ux-enhancements\",\"site\",\"mediawiki.page.startup\",\"mediawiki.page.ready\",\"mediawiki.toc\",\"mediawiki.searchSuggest\",\"ext.gadget.ReferenceTooltips\",\"ext.gadget.suppressEnterAtSummaryBox\",\"ext.gadget.checkSignature\",\"ext.gadget.WikiMiniAtlas\",\"ext.gadget.switcher\",\"ext.centralauth.centralautologin\",\"mmv.head\",\"mmv.bootstrap.autostart\",\"ext.popups\",\"ext.visualEditor.desktopArticleTarget.init\",\"ext.visualEditor.targetLoader\",\"ext.eventLogging\",\"ext.wikimediaEvents\",\"ext.navigationTiming\",\"ext.uls.compactlinks\",\"ext.uls.interface\",\"ext.cx.eventlogging.campaigns\",\"ext.centralNotice.geoIP\",\n",
       "\"ext.centralNotice.startUp\",\"skins.vector.js\",\"ext.dismissableSiteNotice\"];</script>\n",
       "<script>(RLQ=window.RLQ||[]).push(function(){mw.loader.implement(\"user.options@1smlf\",function($,jQuery,require,module){/*@nomin*/mw.user.options.set({\"variant\":\"ja\"});\n",
       "});mw.loader.implement(\"user.tokens@tffin\",function($,jQuery,require,module){/*@nomin*/mw.user.tokens.set({\"patrolToken\":\"+\\\\\",\"watchToken\":\"+\\\\\",\"csrfToken\":\"+\\\\\"});\n",
       "});});</script>\n",
       "<link href=\"/w/load.php?lang=ja&amp;modules=ext.cite.styles%7Cext.dismissableSiteNotice.styles%7Cext.uls.interlanguage%7Cext.visualEditor.desktopArticleTarget.noscript%7Cext.wikimediaBadges%7Cmediawiki.legacy.commonPrint%2Cshared%7Cmediawiki.skinning.interface%7Cmediawiki.toc.styles%7Cskins.vector.styles%7Cwikibase.client.init&amp;only=styles&amp;skin=vector\" rel=\"stylesheet\"/>\n",
       "<script async=\"\" src=\"/w/load.php?lang=ja&amp;modules=startup&amp;only=scripts&amp;raw=1&amp;skin=vector\"></script>\n",
       "<meta content=\"\" name=\"ResourceLoaderDynamicStyles\"/>\n",
       "<link href=\"/w/load.php?lang=ja&amp;modules=site.styles&amp;only=styles&amp;skin=vector\" rel=\"stylesheet\"/>\n",
       "<meta content=\"MediaWiki 1.35.0-wmf.5\" name=\"generator\"/>\n",
       "<meta content=\"origin\" name=\"referrer\"/>\n",
       "<meta content=\"origin-when-crossorigin\" name=\"referrer\"/>\n",
       "<meta content=\"origin-when-cross-origin\" name=\"referrer\"/>\n",
       "<link href=\"android-app://org.wikipedia/http/ja.m.wikipedia.org/wiki/%E3%83%A1%E3%82%BF%E6%A7%8B%E6%96%87%E5%A4%89%E6%95%B0\" rel=\"alternate\"/>\n",
       "<link href=\"/w/index.php?title=%E3%83%A1%E3%82%BF%E6%A7%8B%E6%96%87%E5%A4%89%E6%95%B0&amp;action=edit\" rel=\"alternate\" title=\"編集\" type=\"application/x-wiki\"/>\n",
       "<link href=\"/w/index.php?title=%E3%83%A1%E3%82%BF%E6%A7%8B%E6%96%87%E5%A4%89%E6%95%B0&amp;action=edit\" rel=\"edit\" title=\"編集\"/>\n",
       "<link href=\"/static/apple-touch/wikipedia.png\" rel=\"apple-touch-icon\"/>\n",
       "<link href=\"/static/favicon/wikipedia.ico\" rel=\"shortcut icon\"/>\n",
       "<link href=\"/w/opensearch_desc.php\" rel=\"search\" title=\"Wikipedia (ja)\" type=\"application/opensearchdescription+xml\"/>\n",
       "<link href=\"//ja.wikipedia.org/w/api.php?action=rsd\" rel=\"EditURI\" type=\"application/rsd+xml\"/>\n",
       "<link href=\"//creativecommons.org/licenses/by-sa/3.0/\" rel=\"license\"/>\n",
       "<link href=\"https://ja.wikipedia.org/wiki/%E3%83%A1%E3%82%BF%E6%A7%8B%E6%96%87%E5%A4%89%E6%95%B0\" rel=\"canonical\"/>\n",
       "<link href=\"//login.wikimedia.org\" rel=\"dns-prefetch\"/>\n",
       "<link href=\"//meta.wikimedia.org\" rel=\"dns-prefetch\"/>\n",
       "<!--[if lt IE 9]><script src=\"/w/resources/lib/html5shiv/html5shiv.js\"></script><![endif]-->\n",
       "</head>\n",
       "<body class=\"mediawiki ltr sitedir-ltr mw-hide-empty-elt ns-0 ns-subject mw-editable page-メタ構文変数 rootpage-メタ構文変数 skin-vector action-view\">\n",
       "<div class=\"noprint\" id=\"mw-page-base\"></div>\n",
       "<div class=\"noprint\" id=\"mw-head-base\"></div>\n",
       "<div class=\"mw-body\" id=\"content\" role=\"main\">\n",
       "<a id=\"top\"></a>\n",
       "<div class=\"mw-body-content\" id=\"siteNotice\"><!-- CentralNotice --><div id=\"mw-dismissablenotice-anonplace\"></div><script>(function(){var node=document.getElementById(\"mw-dismissablenotice-anonplace\");if(node){node.outerHTML=\"\\u003Cdiv class=\\\"mw-dismissable-notice\\\"\\u003E\\u003Cdiv class=\\\"mw-dismissable-notice-close\\\"\\u003E[\\u003Ca tabindex=\\\"0\\\" role=\\\"button\\\"\\u003E非表示\\u003C/a\\u003E]\\u003C/div\\u003E\\u003Cdiv class=\\\"mw-dismissable-notice-body\\\"\\u003E\\u003Cdiv id=\\\"localNotice\\\" lang=\\\"ja\\\" dir=\\\"ltr\\\"\\u003E\\u003Cp\\u003E\\u003Ca href=\\\"/wiki/Wikipedia:%E7%AC%AC2%E5%9B%9E%E5%8A%A0%E7%AD%86%E5%A4%A7%E4%BC%9A\\\" title=\\\"Wikipedia:第2回加筆大会\\\"\\u003E加筆大会\\u003C/a\\u003Eを12月1日から12月31日まで開催いたします。奮ってご参加ください。\\n\\u003C/p\\u003E\\u003C/div\\u003E\\u003C/div\\u003E\\u003C/div\\u003E\";}}());</script></div>\n",
       "<div class=\"mw-indicators mw-body-content\">\n",
       "</div>\n",
       "<h1 class=\"firstHeading\" id=\"firstHeading\" lang=\"ja\">メタ構文変数</h1>\n",
       "<div class=\"mw-body-content\" id=\"bodyContent\">\n",
       "<div class=\"noprint\" id=\"siteSub\">出典: フリー百科事典『ウィキペディア（Wikipedia）』</div>\n",
       "<div id=\"contentSub\"></div>\n",
       "<div id=\"jump-to-nav\"></div>\n",
       "<a class=\"mw-jump-link\" href=\"#mw-head\">ナビゲーションに移動</a>\n",
       "<a class=\"mw-jump-link\" href=\"#p-search\">検索に移動</a>\n",
       "<div class=\"mw-content-ltr\" dir=\"ltr\" id=\"mw-content-text\" lang=\"ja\"><div class=\"mw-parser-output\"><table class=\"plainlinks ambox ambox-content\" role=\"presentation\"><tbody><tr><td class=\"mbox-image\"><div style=\"width:52px\"><img alt=\"Question book-4.svg\" data-file-height=\"204\" data-file-width=\"262\" decoding=\"async\" height=\"39\" src=\"//upload.wikimedia.org/wikipedia/commons/thumb/6/64/Question_book-4.svg/50px-Question_book-4.svg.png\" srcset=\"//upload.wikimedia.org/wikipedia/commons/thumb/6/64/Question_book-4.svg/75px-Question_book-4.svg.png 1.5x, //upload.wikimedia.org/wikipedia/commons/thumb/6/64/Question_book-4.svg/100px-Question_book-4.svg.png 2x\" width=\"50\"/></div></td><td class=\"mbox-text\"><div class=\"mbox-text-span\"><b>この記事は<a href=\"/wiki/Wikipedia:%E6%A4%9C%E8%A8%BC%E5%8F%AF%E8%83%BD%E6%80%A7\" title=\"Wikipedia:検証可能性\">検証可能</a>な<a href=\"/wiki/Wikipedia:%E4%BF%A1%E9%A0%BC%E3%81%A7%E3%81%8D%E3%82%8B%E6%83%85%E5%A0%B1%E6%BA%90\" title=\"Wikipedia:信頼できる情報源\">参考文献や出典</a>が全く示されていないか、不十分です。</b><br/><a href=\"/wiki/Wikipedia:%E5%87%BA%E5%85%B8%E3%82%92%E6%98%8E%E8%A8%98%E3%81%99%E3%82%8B\" title=\"Wikipedia:出典を明記する\">出典を追加</a>して記事の信頼性向上にご協力ください。<small>（<span title=\"2011年1月\">2011年1月</span>）</small><span class=\"hide-when-compact\"></span><span class=\"hide-when-compact\"></span></div></td></tr></tbody></table>\n",
       "<p><b>メタ構文変数</b>（メタこうぶんへんすう、<span lang=\"en\">metasyntactic variable</span>）は<a href=\"/wiki/%E3%83%97%E3%83%AD%E3%82%B0%E3%83%A9%E3%83%9F%E3%83%B3%E3%82%B0%E8%A8%80%E8%AA%9E\" title=\"プログラミング言語\">プログラミング言語</a>の記述で使われる<a href=\"/wiki/%E8%AD%98%E5%88%A5%E5%AD%90\" title=\"識別子\">識別子</a>の一種。サンプルプログラムなどで意味のない名前が必要な場合に利用される、「意味のない名前」であることが広く知られた識別子のことである。\n",
       "</p>\n",
       "<div class=\"toc\" id=\"toc\"><input class=\"toctogglecheckbox\" id=\"toctogglecheckbox\" role=\"button\" style=\"display:none\" type=\"checkbox\"/><div class=\"toctitle\" dir=\"ltr\" lang=\"ja\"><h2>目次</h2><span class=\"toctogglespan\"><label class=\"toctogglelabel\" for=\"toctogglecheckbox\"></label></span></div>\n",
       "<ul>\n",
       "<li class=\"toclevel-1 tocsection-1\"><a href=\"#概要\"><span class=\"tocnumber\">1</span> <span class=\"toctext\">概要</span></a></li>\n",
       "<li class=\"toclevel-1 tocsection-2\"><a href=\"#メタ構文変数の例\"><span class=\"tocnumber\">2</span> <span class=\"toctext\">メタ構文変数の例</span></a>\n",
       "<ul>\n",
       "<li class=\"toclevel-2 tocsection-3\"><a href=\"#識別子\"><span class=\"tocnumber\">2.1</span> <span class=\"toctext\">識別子</span></a>\n",
       "<ul>\n",
       "<li class=\"toclevel-3 tocsection-4\"><a href=\"#fooとbar\"><span class=\"tocnumber\">2.1.1</span> <span class=\"toctext\">fooとbar</span></a></li>\n",
       "<li class=\"toclevel-3 tocsection-5\"><a href=\"#spamとham\"><span class=\"tocnumber\">2.1.2</span> <span class=\"toctext\">spamとham</span></a></li>\n",
       "<li class=\"toclevel-3 tocsection-6\"><a href=\"#hogeとpiyo\"><span class=\"tocnumber\">2.1.3</span> <span class=\"toctext\">hogeとpiyo</span></a></li>\n",
       "<li class=\"toclevel-3 tocsection-7\"><a href=\"#ヨーロッパ\"><span class=\"tocnumber\">2.1.4</span> <span class=\"toctext\">ヨーロッパ</span></a></li>\n",
       "</ul>\n",
       "</li>\n",
       "<li class=\"toclevel-2 tocsection-8\"><a href=\"#数字\"><span class=\"tocnumber\">2.2</span> <span class=\"toctext\">数字</span></a></li>\n",
       "<li class=\"toclevel-2 tocsection-9\"><a href=\"#人名\"><span class=\"tocnumber\">2.3</span> <span class=\"toctext\">人名</span></a></li>\n",
       "<li class=\"toclevel-2 tocsection-10\"><a href=\"#企業・ブランド名\"><span class=\"tocnumber\">2.4</span> <span class=\"toctext\">企業・ブランド名</span></a>\n",
       "<ul>\n",
       "<li class=\"toclevel-3 tocsection-11\"><a href=\"#ACME\"><span class=\"tocnumber\">2.4.1</span> <span class=\"toctext\">ACME</span></a></li>\n",
       "</ul>\n",
       "</li>\n",
       "<li class=\"toclevel-2 tocsection-12\"><a href=\"#ドメイン\"><span class=\"tocnumber\">2.5</span> <span class=\"toctext\">ドメイン</span></a></li>\n",
       "</ul>\n",
       "</li>\n",
       "<li class=\"toclevel-1 tocsection-13\"><a href=\"#メタ構文変数由来の固有名詞\"><span class=\"tocnumber\">3</span> <span class=\"toctext\">メタ構文変数由来の固有名詞</span></a>\n",
       "<ul>\n",
       "<li class=\"toclevel-2 tocsection-14\"><a href=\"#xyzzy\"><span class=\"tocnumber\">3.1</span> <span class=\"toctext\">xyzzy</span></a></li>\n",
       "<li class=\"toclevel-2 tocsection-15\"><a href=\"#foobar2000\"><span class=\"tocnumber\">3.2</span> <span class=\"toctext\">foobar2000</span></a></li>\n",
       "</ul>\n",
       "</li>\n",
       "<li class=\"toclevel-1 tocsection-16\"><a href=\"#脚注\"><span class=\"tocnumber\">4</span> <span class=\"toctext\">脚注</span></a></li>\n",
       "<li class=\"toclevel-1 tocsection-17\"><a href=\"#関連項目\"><span class=\"tocnumber\">5</span> <span class=\"toctext\">関連項目</span></a></li>\n",
       "<li class=\"toclevel-1 tocsection-18\"><a href=\"#外部リンク\"><span class=\"tocnumber\">6</span> <span class=\"toctext\">外部リンク</span></a></li>\n",
       "</ul>\n",
       "</div>\n",
       "<h2><span id=\".E6.A6.82.E8.A6.81\"></span><span class=\"mw-headline\" id=\"概要\">概要</span><span class=\"mw-editsection\"><span class=\"mw-editsection-bracket\">[</span><a href=\"/w/index.php?title=%E3%83%A1%E3%82%BF%E6%A7%8B%E6%96%87%E5%A4%89%E6%95%B0&amp;action=edit&amp;section=1\" title=\"節を編集: 概要\">編集</a><span class=\"mw-editsection-bracket\">]</span></span></h2>\n",
       "<p>プログラミング言語では識別子（<a href=\"/wiki/%E5%A4%89%E6%95%B0_(%E3%83%97%E3%83%AD%E3%82%B0%E3%83%A9%E3%83%9F%E3%83%B3%E3%82%B0)\" title=\"変数 (プログラミング)\">変数</a>や<a class=\"mw-redirect\" href=\"/wiki/%E9%96%A2%E6%95%B0_(%E3%83%97%E3%83%AD%E3%82%B0%E3%83%A9%E3%83%9F%E3%83%B3%E3%82%B0)\" title=\"関数 (プログラミング)\">関数</a>などの名前のこと）を自由に定義できるが、サンプルプログラムなどでまったく意味の無い変数に適当な名前がなく困ってしまうことがある。しかしどんな名前でも構わないからといって、例えば「wikipe」などとつけると、そのプログラムを見た他の人はその変数に何の意味があるのかと悩むことになる（例の場合ではWikipediaに関連があると連想したり、wikipeと言う特別な変数があると勘違いする）。そのようなときに、「abcd」や「hoge」（ほげ）をはじめとするメタ構文変数を利用する。メタ構文変数は<a href=\"/wiki/%E3%83%97%E3%83%AD%E3%82%B0%E3%83%A9%E3%83%9E\" title=\"プログラマ\">プログラマ</a>の間でサンプル用の意味が無い変数名であることが認知されているので無用な混乱が避けられるほか、書く側も苦労して名前をひねりだす必要がなくなる。\n",
       "</p><p>厳密には変数名ではない識別子（特定言語における<a href=\"/wiki/%E3%82%AF%E3%83%A9%E3%82%B9_(%E3%82%B3%E3%83%B3%E3%83%94%E3%83%A5%E3%83%BC%E3%82%BF)\" title=\"クラス (コンピュータ)\">クラス</a>名やモジュール名など）についてhoge等が使われた場合でも「メタ構文変数」と呼ぶ。\n",
       "また整数リテラルや 一般文書の人名記載例等、明らかに識別子でないものや、プログラミングに限定されない分野で用いられる類似概念も含めて「メタ構文変数」と呼ばれることもある。\n",
       "</p>\n",
       "<h2><span id=\".E3.83.A1.E3.82.BF.E6.A7.8B.E6.96.87.E5.A4.89.E6.95.B0.E3.81.AE.E4.BE.8B\"></span><span class=\"mw-headline\" id=\"メタ構文変数の例\">メタ構文変数の例</span><span class=\"mw-editsection\"><span class=\"mw-editsection-bracket\">[</span><a href=\"/w/index.php?title=%E3%83%A1%E3%82%BF%E6%A7%8B%E6%96%87%E5%A4%89%E6%95%B0&amp;action=edit&amp;section=2\" title=\"節を編集: メタ構文変数の例\">編集</a><span class=\"mw-editsection-bracket\">]</span></span></h2>\n",
       "<h3><span id=\".E8.AD.98.E5.88.A5.E5.AD.90\"></span><span class=\"mw-headline\" id=\"識別子\">識別子</span><span class=\"mw-editsection\"><span class=\"mw-editsection-bracket\">[</span><a href=\"/w/index.php?title=%E3%83%A1%E3%82%BF%E6%A7%8B%E6%96%87%E5%A4%89%E6%95%B0&amp;action=edit&amp;section=3\" title=\"節を編集: 識別子\">編集</a><span class=\"mw-editsection-bracket\">]</span></span></h3>\n",
       "<p>狭義のメタ構文変数。\n",
       "</p><p>メタ構文変数には系統（ファミリー）があり、ひとつの文脈ではひとつのファミリーの変数群を利用することが多い。メタ構文文法の系統は、特定言語圏や特定分野などの一部の文化圏に限定される場合も多い。したがって、各国語が独自のメタ構文変数を導入していることも多い（英語版を参照）。\n",
       "</p>\n",
       "<h4><span id=\"foo.E3.81.A8bar\"></span><span class=\"mw-headline\" id=\"fooとbar\">fooとbar</span><span class=\"mw-editsection\"><span class=\"mw-editsection-bracket\">[</span><a href=\"/w/index.php?title=%E3%83%A1%E3%82%BF%E6%A7%8B%E6%96%87%E5%A4%89%E6%95%B0&amp;action=edit&amp;section=4\" title=\"節を編集: fooとbar\">編集</a><span class=\"mw-editsection-bracket\">]</span></span></h4>\n",
       "<div class=\"rellink\" style=\"margin-bottom: 0.5em; padding-left: 2em; font-style: italic;\">詳細は「<a href=\"/wiki/Foobar\" title=\"Foobar\">foobar</a>」を参照</div>\n",
       "<p><a href=\"/wiki/%E8%8B%B1%E8%AA%9E\" title=\"英語\">英語</a>圏由来として、ひろく使用されているものに、foo、bar の系統がある。これは「<b>foo</b>」「<b>bar</b>」「<b>baz</b>」「<b>qux</b>」「<b>quux</b>」「<b><a href=\"/wiki/Foobar\" title=\"Foobar\">foobar</a></b>」などを使うもので、まずfooを使い、ふたつめ以降、bar、baz…、と使う。foobarといった掛け合わせ名は作るが、foofoo、barbarなどの重ね合わせ名は見られない。\n",
       "</p><p>なお<style data-mw-deduplicate=\"TemplateStyles:r73980146\">.mw-parser-output cite.citation{font-style:inherit}.mw-parser-output .citation q{quotes:\"\\\"\"\"\\\"\"\"'\"\"'\"}.mw-parser-output .citation .cs1-lock-free a{background:url(\"//upload.wikimedia.org/wikipedia/commons/thumb/6/65/Lock-green.svg/9px-Lock-green.svg.png\")no-repeat;background-position:right .1em center}.mw-parser-output .citation .cs1-lock-limited a,.mw-parser-output .citation .cs1-lock-registration a{background:url(\"//upload.wikimedia.org/wikipedia/commons/thumb/d/d6/Lock-gray-alt-2.svg/9px-Lock-gray-alt-2.svg.png\")no-repeat;background-position:right .1em center}.mw-parser-output .citation .cs1-lock-subscription a{background:url(\"//upload.wikimedia.org/wikipedia/commons/thumb/a/aa/Lock-red-alt-2.svg/9px-Lock-red-alt-2.svg.png\")no-repeat;background-position:right .1em center}.mw-parser-output .cs1-subscription,.mw-parser-output .cs1-registration{color:#555}.mw-parser-output .cs1-subscription span,.mw-parser-output .cs1-registration span{border-bottom:1px dotted;cursor:help}.mw-parser-output .cs1-ws-icon a{background:url(\"//upload.wikimedia.org/wikipedia/commons/thumb/4/4c/Wikisource-logo.svg/12px-Wikisource-logo.svg.png\")no-repeat;background-position:right .1em center}.mw-parser-output code.cs1-code{color:inherit;background:inherit;border:inherit;padding:inherit}.mw-parser-output .cs1-hidden-error{display:none;font-size:100%}.mw-parser-output .cs1-visible-error{font-size:100%}.mw-parser-output .cs1-maint{display:none;color:#33aa33;margin-left:0.3em}.mw-parser-output .cs1-subscription,.mw-parser-output .cs1-registration,.mw-parser-output .cs1-format{font-size:95%}.mw-parser-output .cs1-kern-left,.mw-parser-output .cs1-kern-wl-left{padding-left:0.2em}.mw-parser-output .cs1-kern-right,.mw-parser-output .cs1-kern-wl-right{padding-right:0.2em}</style><a href=\"/wiki/Request_for_Comments\" title=\"Request for Comments\">RFC</a> <a class=\"external text\" href=\"https://tools.ietf.org/html/rfc3092\" rel=\"nofollow\">3092</a>（2001年）では「foo」「bar」「foobar」「baz」「qux」「quux」「corge」「grault」「garply」「waldo」「fred」「plugh」「xyzzy」「thud」が挙げられており、イギリス圏では加えて「wibble」「wobble」「wubble」「flob」等も用いられる<sup class=\"reference\" id=\"cite_ref-1\"><a href=\"#cite_note-1\">[1]</a></sup>。\n",
       "</p>\n",
       "<h4><span id=\"spam.E3.81.A8ham\"></span><span class=\"mw-headline\" id=\"spamとham\">spamとham</span><span class=\"mw-editsection\"><span class=\"mw-editsection-bracket\">[</span><a href=\"/w/index.php?title=%E3%83%A1%E3%82%BF%E6%A7%8B%E6%96%87%E5%A4%89%E6%95%B0&amp;action=edit&amp;section=5\" title=\"節を編集: spamとham\">編集</a><span class=\"mw-editsection-bracket\">]</span></span></h4>\n",
       "<p>プログラミング言語<a href=\"/wiki/Python\" title=\"Python\">Python</a>では、メタ構文変数に spam, ham, eggs などを使う。これは Python という名前自体が、<a href=\"/wiki/%E3%83%A2%E3%83%B3%E3%83%86%E3%82%A3%E3%83%BB%E3%83%91%E3%82%A4%E3%82%BD%E3%83%B3\" title=\"モンティ・パイソン\">モンティ・パイソン</a>にちなんで名付けられたことにちなむ。spamとモンティ・パイソンの関係についての詳細は<a href=\"/wiki/%E3%82%B9%E3%83%91%E3%83%A0#モンティ・パイソンとスパム\" title=\"スパム\">モンティ・パイソンとスパム</a>にある。\n",
       "</p>\n",
       "<h4><span id=\"hoge.E3.81.A8piyo\"></span><span class=\"mw-headline\" id=\"hogeとpiyo\">hogeとpiyo</span><span class=\"mw-editsection\"><span class=\"mw-editsection-bracket\">[</span><a href=\"/w/index.php?title=%E3%83%A1%E3%82%BF%E6%A7%8B%E6%96%87%E5%A4%89%E6%95%B0&amp;action=edit&amp;section=6\" title=\"節を編集: hogeとpiyo\">編集</a><span class=\"mw-editsection-bracket\">]</span></span></h4>\n",
       "<p>日本のみで使用されるメタ構文変数として「<b>hoge</b>（ほげ<sup class=\"reference\" id=\"cite_ref-2\"><a href=\"#cite_note-2\">[2]</a></sup>）」「<b>fuga</b>（ふが）」「<b>piyo</b>（ぴよ）」「<b>hogera</b>（ほげら）」「<b>hogehoge</b>（ほげほげ）」などがある。\n",
       "</p><p>この系統のメタ構文変数は、まずhogeを使い、fugaはhogeを使用したあとの2つ目のメタ構文変数として使われる。hogeを使用せずにfugaだけ使用されることはまずない。\n",
       "同様に変数のバリエーションを増やすため、piyoやhogeraと発展していく。\n",
       "</p><p>メタ構文変数はしばしば名前を重ねたり、2つのメタ構文変数名を繋げたりして名称のバリエーションを作るが、hoge系統では hogehoge、piyopiyoなどの重ね合わせ名のバリエーションがほとんどであり、hogepiyoといった掛け合わせ名はあまり見られない。これはfoo、bar系統とは対照的である。\n",
       "</p><p>hogeの起源は定かではないが、<a href=\"/wiki/1980%E5%B9%B4\" title=\"1980年\">1980年</a>代の前半ごろから使われ始めたという説がある<sup class=\"reference\" id=\"cite_ref-3\"><a href=\"#cite_note-3\">[3]</a></sup>。\n",
       "</p>\n",
       "<h4><span id=\".E3.83.A8.E3.83.BC.E3.83.AD.E3.83.83.E3.83.91\"></span><span class=\"mw-headline\" id=\"ヨーロッパ\">ヨーロッパ</span><span class=\"mw-editsection\"><span class=\"mw-editsection-bracket\">[</span><a href=\"/w/index.php?title=%E3%83%A1%E3%82%BF%E6%A7%8B%E6%96%87%E5%A4%89%E6%95%B0&amp;action=edit&amp;section=7\" title=\"節を編集: ヨーロッパ\">編集</a><span class=\"mw-editsection-bracket\">]</span></span></h4>\n",
       "<p><a href=\"/wiki/%E3%83%95%E3%83%A9%E3%83%B3%E3%82%B9\" title=\"フランス\">フランス</a>ではtotoが多く使われる。<a href=\"/wiki/%E9%A1%94%E6%96%87%E5%AD%97\" title=\"顔文字\">顔文字</a>もかつて「トトの顔」と呼ばれた（iPhoneで<a href=\"/wiki/%E7%B5%B5%E6%96%87%E5%AD%97\" title=\"絵文字\">絵文字</a>が普及した2010年代以降はemoji, emoticonの呼び方が一般的である）。もともと男性人名アントワーヌAntoineの愛称がトトであり（イタリアの俳優<a href=\"/wiki/%E3%83%88%E3%83%88_(%E4%BF%B3%E5%84%AA)\" title=\"トト (俳優)\">トト</a>などがいる。これはイタリア人名アントニオの愛称である）、「トトの冗談」という架空の人名の冗談小噺（<a class=\"mw-redirect\" href=\"/wiki/%E5%90%89%E5%9B%9B%E5%85%AD%E8%A9%B1\" title=\"吉四六話\">吉四六話</a>などに相当）に使われている。メタ構文変数としてはまずtotoを使い、次にtete, titi, tutu, tataなどが用いられる。テテもまた愛称であり、<a href=\"/wiki/%E3%82%BB%E3%83%8D%E3%82%AC%E3%83%AB\" title=\"セネガル\">セネガル</a>出身の歌手<a href=\"/wiki/%E3%83%86%E3%83%86_(%E6%AD%8C%E6%89%8B)\" title=\"テテ (歌手)\">テテ</a>などがいる。\n",
       "</p><p><a href=\"/wiki/%E3%82%A4%E3%82%BF%E3%83%AA%E3%82%A2\" title=\"イタリア\">イタリア</a>ではpippoが使われる。これも男性名の愛称である（<a href=\"/wiki/%E3%83%95%E3%82%A3%E3%83%AA%E3%83%83%E3%83%9D%E3%83%BB%E3%82%A4%E3%83%B3%E3%82%B6%E3%83%BC%E3%82%AE\" title=\"フィリッポ・インザーギ\">フィリッポ・インザーギ</a>など）。\n",
       "</p><p><a href=\"/wiki/%E3%83%89%E3%82%A4%E3%83%84\" title=\"ドイツ\">ドイツ</a>ではbla, blubが使われる。2度目以降はblablaなどと繰り返す。ブラブラとは通常おしゃべりを表すシノニムとして、ヨーロッパの多くの言語で用いられる。\n",
       "</p>\n",
       "<h3><span id=\".E6.95.B0.E5.AD.97\"></span><span class=\"mw-headline\" id=\"数字\">数字</span><span class=\"mw-editsection\"><span class=\"mw-editsection-bracket\">[</span><a href=\"/w/index.php?title=%E3%83%A1%E3%82%BF%E6%A7%8B%E6%96%87%E5%A4%89%E6%95%B0&amp;action=edit&amp;section=8\" title=\"節を編集: 数字\">編集</a><span class=\"mw-editsection-bracket\">]</span></span></h3>\n",
       "<p>サンプルプログラムに使われる無意味な整数リテラルにも同様の概念が存在し、「23」や「42」などが用いられる。「42」は<a href=\"/wiki/%E7%94%9F%E5%91%BD%E3%80%81%E5%AE%87%E5%AE%99%E3%80%81%E3%81%9D%E3%81%97%E3%81%A6%E4%B8%87%E7%89%A9%E3%81%AB%E3%81%A4%E3%81%84%E3%81%A6%E3%81%AE%E7%A9%B6%E6%A5%B5%E3%81%AE%E7%96%91%E5%95%8F%E3%81%AE%E7%AD%94%E3%81%88\" title=\"生命、宇宙、そして万物についての究極の疑問の答え\">生命、宇宙、そして万物についての究極の疑問の答え</a>に由来する。\n",
       "</p>\n",
       "<h3><span id=\".E4.BA.BA.E5.90.8D\"></span><span class=\"mw-headline\" id=\"人名\">人名</span><span class=\"mw-editsection\"><span class=\"mw-editsection-bracket\">[</span><a href=\"/w/index.php?title=%E3%83%A1%E3%82%BF%E6%A7%8B%E6%96%87%E5%A4%89%E6%95%B0&amp;action=edit&amp;section=9\" title=\"節を編集: 人名\">編集</a><span class=\"mw-editsection-bracket\">]</span></span></h3>\n",
       "<p>プログラミングに限定されず広く利用されるメタ構文変数的な概念に<a href=\"/wiki/%E4%BA%BA%E5%90%8D\" title=\"人名\">人名</a>がある。\n",
       "</p><p>日本語圏では「○○<b><a href=\"/wiki/%E5%A4%AA%E9%83%8E\" title=\"太郎\">太郎</a></b>」「○○<b><a class=\"mw-disambig\" href=\"/wiki/%E8%8A%B1%E5%AD%90_(%E4%BA%BA%E5%90%8D)\" title=\"花子 (人名)\">花子</a></b>」などが使われる。○○の部分には、記入を促す団体名をもじった名字や「<b><a href=\"/wiki/%E6%97%A5%E6%9C%AC\" title=\"日本\">日本</a></b>」「<b><a class=\"mw-disambig\" href=\"/wiki/%E5%B1%B1%E7%94%B0\" title=\"山田\">山田</a></b>」等が用いられることが多い。\n",
       "</p><p>英語圏では<a href=\"/wiki/%E3%82%A2%E3%83%AA%E3%82%B9%E3%81%A8%E3%83%9C%E3%83%96\" title=\"アリスとボブ\">アリスとボブ</a>があり、日本語でも<a href=\"/wiki/%E3%82%A2%E3%83%AA%E3%82%B9%E3%81%A8%E3%83%9C%E3%83%96\" title=\"アリスとボブ\">「<b>アリス</b>」や「<b>ボブ</b>」</a>として使われることがある。<a href=\"/wiki/%E7%89%A9%E7%90%86%E5%AD%A6\" title=\"物理学\">物理学</a>や<a href=\"/wiki/%E9%80%9A%E4%BF%A1%E5%B7%A5%E5%AD%A6\" title=\"通信工学\">通信工学</a>あるいは<a class=\"mw-redirect\" href=\"/wiki/%E6%9A%97%E5%8F%B7%E5%AD%A6\" title=\"暗号学\">暗号学</a>で、プロトコル等を解説するときにエンティティの名前として使われる。<a href=\"/wiki/%E3%82%B3%E3%83%B3%E3%83%94%E3%83%A5%E3%83%BC%E3%82%BF\" title=\"コンピュータ\">コンピュータ</a>分野、特に<a href=\"/wiki/%E3%83%8F%E3%83%83%E3%82%AB%E3%83%BC%E6%96%87%E5%8C%96\" title=\"ハッカー文化\">ハッカー文化</a>においては、「<b>J. Random Hacker</b>」、「<b><a class=\"mw-disambig\" href=\"/wiki/%E3%83%95%E3%83%AC%E3%83%83%E3%83%89\" title=\"フレッド\">Fred</a></b>」(<a href=\"/wiki/%E5%8E%9F%E5%A7%8B%E5%AE%B6%E6%97%8F%E3%83%95%E3%83%AA%E3%83%B3%E3%83%88%E3%82%B9%E3%83%88%E3%83%BC%E3%83%B3\" title=\"原始家族フリントストーン\">原始家族フリントストーン</a>の主人公の名で、J. Random Hackerのいとこであるとされる)、「<b><a class=\"mw-disambig\" href=\"/wiki/%E3%83%90%E3%83%BC%E3%83%8B%E3%83%BC\" title=\"バーニー\">Barney</a></b>」(これも原始家族フリントストーンの主人公の名) が好んで用いられる。\n",
       "</p>\n",
       "<h3><span id=\".E4.BC.81.E6.A5.AD.E3.83.BB.E3.83.96.E3.83.A9.E3.83.B3.E3.83.89.E5.90.8D\"></span><span class=\"mw-headline\" id=\"企業・ブランド名\">企業・ブランド名</span><span class=\"mw-editsection\"><span class=\"mw-editsection-bracket\">[</span><a href=\"/w/index.php?title=%E3%83%A1%E3%82%BF%E6%A7%8B%E6%96%87%E5%A4%89%E6%95%B0&amp;action=edit&amp;section=10\" title=\"節を編集: 企業・ブランド名\">編集</a><span class=\"mw-editsection-bracket\">]</span></span></h3>\n",
       "<h4><span class=\"mw-headline\" id=\"ACME\">ACME</span><span class=\"mw-editsection\"><span class=\"mw-editsection-bracket\">[</span><a href=\"/w/index.php?title=%E3%83%A1%E3%82%BF%E6%A7%8B%E6%96%87%E5%A4%89%E6%95%B0&amp;action=edit&amp;section=11\" title=\"節を編集: ACME\">編集</a><span class=\"mw-editsection-bracket\">]</span></span></h4>\n",
       "<p><a href=\"/wiki/%E3%83%AB%E3%83%BC%E3%83%8B%E3%83%BC%E3%83%BB%E3%83%86%E3%83%A5%E3%83%BC%E3%83%B3%E3%82%BA\" title=\"ルーニー・テューンズ\">ルーニー・テューンズ</a>の「ロードランナー」で架空の企業名、ブランド名としてACME(アクメ印)が使われた。以降のアニメでも「アクメ」が架空の企業名、ブランド名として使われている。マイクロソフトのデータベース製品のサンプルデータとしてもACMEが使われていた。\n",
       "</p>\n",
       "<h3><span id=\".E3.83.89.E3.83.A1.E3.82.A4.E3.83.B3\"></span><span class=\"mw-headline\" id=\"ドメイン\">ドメイン</span><span class=\"mw-editsection\"><span class=\"mw-editsection-bracket\">[</span><a href=\"/w/index.php?title=%E3%83%A1%E3%82%BF%E6%A7%8B%E6%96%87%E5%A4%89%E6%95%B0&amp;action=edit&amp;section=12\" title=\"節を編集: ドメイン\">編集</a><span class=\"mw-editsection-bracket\">]</span></span></h3>\n",
       "<p><b><a href=\"/wiki/Example.com\" title=\"Example.com\">example.com</a></b> および <b>example.net</b>, <b>example.org</b>は、<link href=\"mw-data:TemplateStyles:r73980146\" rel=\"mw-deduplicated-inline-style\"/><a href=\"/wiki/Request_for_Comments\" title=\"Request for Comments\">RFC</a> <a class=\"external text\" href=\"https://tools.ietf.org/html/rfc2606\" rel=\"nofollow\">2606</a> の 3 章で予約されている<a href=\"/wiki/%E3%82%BB%E3%82%AB%E3%83%B3%E3%83%89%E3%83%AC%E3%83%99%E3%83%AB%E3%83%89%E3%83%A1%E3%82%A4%E3%83%B3\" title=\"セカンドレベルドメイン\">セカンドレベルドメイン名</a>である。 これらは<a href=\"/wiki/%E3%82%BD%E3%83%95%E3%83%88%E3%82%A6%E3%82%A7%E3%82%A2%E3%83%89%E3%82%AD%E3%83%A5%E3%83%A1%E3%83%B3%E3%83%86%E3%83%BC%E3%82%B7%E3%83%A7%E3%83%B3\" title=\"ソフトウェアドキュメンテーション\">ソフトウェアドキュメンテーション</a>（<a href=\"/wiki/%E3%82%BD%E3%83%95%E3%83%88%E3%82%A6%E3%82%A7%E3%82%A2\" title=\"ソフトウェア\">ソフトウェア</a><a href=\"/wiki/%E6%96%87%E6%9B%B8\" title=\"文書\">文書</a>）における例示のために使われるもので、実際に登録することはできない。ドメインやURLのサンプルなどで用いる。\n",
       "</p><p>また、<a href=\"/wiki/%E5%9B%BD%E9%9A%9B%E5%8C%96%E3%83%89%E3%83%A1%E3%82%A4%E3%83%B3%E5%90%8D\" title=\"国際化ドメイン名\">国際化ドメイン名</a>のうち日本語ドメインの場合は「ドメイン名例.JP」が例示用に予約されている<sup class=\"reference\" id=\"cite_ref-4\"><a href=\"#cite_note-4\">[4]</a></sup>。\n",
       "</p>\n",
       "<h2><span id=\".E3.83.A1.E3.82.BF.E6.A7.8B.E6.96.87.E5.A4.89.E6.95.B0.E7.94.B1.E6.9D.A5.E3.81.AE.E5.9B.BA.E6.9C.89.E5.90.8D.E8.A9.9E\"></span><span class=\"mw-headline\" id=\"メタ構文変数由来の固有名詞\">メタ構文変数由来の固有名詞</span><span class=\"mw-editsection\"><span class=\"mw-editsection-bracket\">[</span><a href=\"/w/index.php?title=%E3%83%A1%E3%82%BF%E6%A7%8B%E6%96%87%E5%A4%89%E6%95%B0&amp;action=edit&amp;section=13\" title=\"節を編集: メタ構文変数由来の固有名詞\">編集</a><span class=\"mw-editsection-bracket\">]</span></span></h2>\n",
       "<p>メタ構文変数名が固有名詞となることがある。\n",
       "</p>\n",
       "<h3><span class=\"mw-headline\" id=\"xyzzy\">xyzzy</span><span class=\"mw-editsection\"><span class=\"mw-editsection-bracket\">[</span><a href=\"/w/index.php?title=%E3%83%A1%E3%82%BF%E6%A7%8B%E6%96%87%E5%A4%89%E6%95%B0&amp;action=edit&amp;section=14\" title=\"節を編集: xyzzy\">編集</a><span class=\"mw-editsection-bracket\">]</span></span></h3>\n",
       "<p>xyzzy（エックス・ワイ・ズィズィーまたはズィズィー）は、もともと英語圏のメタ構文変数だが、テキストエディタ<a href=\"/wiki/Xyzzy\" title=\"Xyzzy\">xyzzy</a>（読みかた不定）として固有名詞としても使われている。\n",
       "</p>\n",
       "<h3><span class=\"mw-headline\" id=\"foobar2000\">foobar2000</span><span class=\"mw-editsection\"><span class=\"mw-editsection-bracket\">[</span><a href=\"/w/index.php?title=%E3%83%A1%E3%82%BF%E6%A7%8B%E6%96%87%E5%A4%89%E6%95%B0&amp;action=edit&amp;section=15\" title=\"節を編集: foobar2000\">編集</a><span class=\"mw-editsection-bracket\">]</span></span></h3>\n",
       "<p><a href=\"/wiki/Foobar2000\" title=\"Foobar2000\">foobar2000</a>の名前も同じく英語圏のメタ構文変数である<a href=\"/wiki/Foobar\" title=\"Foobar\">foobar</a>に由来する。\n",
       "</p>\n",
       "<h2><span id=\".E8.84.9A.E6.B3.A8\"></span><span class=\"mw-headline\" id=\"脚注\">脚注</span><span class=\"mw-editsection\"><span class=\"mw-editsection-bracket\">[</span><a href=\"/w/index.php?title=%E3%83%A1%E3%82%BF%E6%A7%8B%E6%96%87%E5%A4%89%E6%95%B0&amp;action=edit&amp;section=16\" title=\"節を編集: 脚注\">編集</a><span class=\"mw-editsection-bracket\">]</span></span></h2>\n",
       "<table class=\"noprint\" style=\"float:right; font-size:90%;\"><tbody><tr><td>[<a href=\"/wiki/Help:%E8%84%9A%E6%B3%A8/%E8%AA%AD%E8%80%85%E5%90%91%E3%81%91\" title=\"Help:脚注/読者向け\"><span title=\"この欄の操作法\">ヘルプ</span></a>]</td></tr></tbody></table>\n",
       "<div class=\"reflist\" style=\"list-style-type: decimal;\">\n",
       "<ol class=\"references\">\n",
       "<li id=\"cite_note-1\"><b><a href=\"#cite_ref-1\">^</a></b> <span class=\"reference-text\"><cite style=\"font-style:normal\">“<a class=\"external text\" href=\"http://catb.org/jargon/html/W/wibble.html\" rel=\"nofollow\">wibble</a>”.   Jargon File 4.4.7. <span title=\"\">2019年1月4日</span>閲覧。</cite></span>\n",
       "</li>\n",
       "<li id=\"cite_note-2\"><b><a href=\"#cite_ref-2\">^</a></b> <span class=\"reference-text\"><a class=\"external text\" href=\"http://ejje.weblio.jp/content/hoge\" rel=\"nofollow\">hogeの意味 - 英和辞典 Weblio辞書</a></span>\n",
       "</li>\n",
       "<li id=\"cite_note-3\"><b><a href=\"#cite_ref-3\">^</a></b> <span class=\"reference-text\"><a class=\"external text\" href=\"http://kmaebashi.com/programmer/hoge.html\" rel=\"nofollow\">ほげを考えるページ</a></span>\n",
       "</li>\n",
       "<li id=\"cite_note-4\"><b><a href=\"#cite_ref-4\">^</a></b> <span class=\"reference-text\"><a class=\"external text\" href=\"https://jprs.jp/faq/use/\" rel=\"nofollow\">JPドメイン名の活用について</a></span>\n",
       "</li>\n",
       "</ol></div>\n",
       "<h2><span id=\".E9.96.A2.E9.80.A3.E9.A0.85.E7.9B.AE\"></span><span class=\"mw-headline\" id=\"関連項目\">関連項目</span><span class=\"mw-editsection\"><span class=\"mw-editsection-bracket\">[</span><a href=\"/w/index.php?title=%E3%83%A1%E3%82%BF%E6%A7%8B%E6%96%87%E5%A4%89%E6%95%B0&amp;action=edit&amp;section=17\" title=\"節を編集: 関連項目\">編集</a><span class=\"mw-editsection-bracket\">]</span></span></h2>\n",
       "<ul><li><a href=\"/wiki/%E3%83%86%E3%82%B9%E3%83%88%E3%83%91%E3%82%BF%E3%83%BC%E3%83%B3\" title=\"テストパターン\">テストパターン</a> / <a href=\"/wiki/%E3%83%86%E3%82%B9%E3%83%88%E3%83%91%E3%82%BF%E3%83%BC%E3%83%B3_(%E6%94%BE%E9%80%81)\" title=\"テストパターン (放送)\">テストパターン (放送)</a></li>\n",
       "<li><a href=\"/wiki/%E3%83%AC%E3%83%8A_(%E7%94%BB%E5%83%8F%E3%83%87%E3%83%BC%E3%82%BF)\" title=\"レナ (画像データ)\">レナ</a></li>\n",
       "<li><a href=\"/wiki/Lorem_ipsum\" title=\"Lorem ipsum\">Lorem ipsum</a></li>\n",
       "<li><a href=\"/wiki/%E5%90%8D%E7%84%A1%E3%81%97%E3%81%AE%E6%A8%A9%E5%85%B5%E8%A1%9B\" title=\"名無しの権兵衛\">名無しの権兵衛</a></li>\n",
       "<li><a class=\"extiw\" href=\"https://en.wikipedia.org/wiki/en:John_Doe\" title=\"w:en:John Doe\">John Doe</a></li>\n",
       "<li><a class=\"extiw\" href=\"https://en.wikipedia.org/wiki/en:Placeholder_name\" title=\"w:en:Placeholder name\">Placeholder name</a></li></ul>\n",
       "<h2><span id=\".E5.A4.96.E9.83.A8.E3.83.AA.E3.83.B3.E3.82.AF\"></span><span class=\"mw-headline\" id=\"外部リンク\">外部リンク</span><span class=\"mw-editsection\"><span class=\"mw-editsection-bracket\">[</span><a href=\"/w/index.php?title=%E3%83%A1%E3%82%BF%E6%A7%8B%E6%96%87%E5%A4%89%E6%95%B0&amp;action=edit&amp;section=18\" title=\"節を編集: 外部リンク\">編集</a><span class=\"mw-editsection-bracket\">]</span></span></h2>\n",
       "<ul><li><a class=\"external text\" href=\"http://kmaebashi.com/programmer/hoge.html\" rel=\"nofollow\">ほげを考えるページ</a>（消滅したページの転載）</li>\n",
       "<li><a class=\"external text\" href=\"http://www.faqs.org/rfcs/rfc3092.html\" rel=\"nofollow\">RFC3092</a></li>\n",
       "<li><a class=\"external text\" href=\"http://www.puni.net/~mimori/rfc/rfc3092.txt\" rel=\"nofollow\">RFC3092（日本語訳）</a></li></ul>\n",
       "<!-- \n",
       "NewPP limit report\n",
       "Parsed by mw1344\n",
       "Cached time: 20191119210045\n",
       "Cache expiry: 2592000\n",
       "Dynamic content: false\n",
       "Complications: []\n",
       "CPU time usage: 0.340 seconds\n",
       "Real time usage: 0.786 seconds\n",
       "Preprocessor visited node count: 1188/1000000\n",
       "Preprocessor generated node count: 0/1500000\n",
       "Post‐expand include size: 5828/2097152 bytes\n",
       "Template argument size: 1807/2097152 bytes\n",
       "Highest expansion depth: 31/40\n",
       "Expensive parser function count: 1/500\n",
       "Unstrip recursion depth: 0/20\n",
       "Unstrip post‐expand size: 5083/5000000 bytes\n",
       "Number of Wikibase entities loaded: 0/400\n",
       "Lua time usage: 0.051/10.000 seconds\n",
       "Lua memory usage: 926 KB/50 MB\n",
       "-->\n",
       "<!--\n",
       "Transclusion expansion time report (%,ms,calls,template)\n",
       "100.00%  698.378      1 -total\n",
       " 29.45%  205.657      1 Template:出典の明記\n",
       " 27.30%  190.668      2 Template:IETF_RFC\n",
       " 26.38%  184.202      2 Template:Catalog_lookup_link\n",
       " 21.36%  149.143      1 Template:Ambox\n",
       " 19.87%  138.739      1 Template:Main\n",
       " 18.94%  132.282      1 Template:Rellink\n",
       " 17.60%  122.928      1 Template:See/core\n",
       " 15.82%  110.505      1 Template:Reflist\n",
       " 12.13%   84.719      1 Template:Cite_web\n",
       "-->\n",
       "<!-- Saved in parser cache with key jawiki:pcache:idhash:136800-0!canonical and timestamp 20191119210056 and revision id 75063823\n",
       " -->\n",
       "</div><noscript><img alt=\"\" height=\"1\" src=\"//ja.wikipedia.org/wiki/Special:CentralAutoLogin/start?type=1x1\" style=\"border: none; position: absolute;\" title=\"\" width=\"1\"/></noscript></div>\n",
       "<div class=\"printfooter\">「<a dir=\"ltr\" href=\"https://ja.wikipedia.org/w/index.php?title=メタ構文変数&amp;oldid=75063823\">https://ja.wikipedia.org/w/index.php?title=メタ構文変数&amp;oldid=75063823</a>」から取得</div>\n",
       "<div class=\"catlinks\" data-mw=\"interface\" id=\"catlinks\"><div class=\"mw-normal-catlinks\" id=\"mw-normal-catlinks\"><a href=\"/wiki/%E7%89%B9%E5%88%A5:%E3%82%AB%E3%83%86%E3%82%B4%E3%83%AA\" title=\"特別:カテゴリ\">カテゴリ</a>: <ul><li><a href=\"/wiki/Category:%E3%83%97%E3%83%AD%E3%82%B0%E3%83%A9%E3%83%9F%E3%83%B3%E3%82%B0\" title=\"Category:プログラミング\">プログラミング</a></li><li><a href=\"/wiki/Category:%E3%83%97%E3%83%AD%E3%82%B0%E3%83%A9%E3%83%9F%E3%83%B3%E3%82%B0%E8%A8%80%E8%AA%9E%E3%81%AE%E6%A7%8B%E6%96%87\" title=\"Category:プログラミング言語の構文\">プログラミング言語の構文</a></li><li><a href=\"/wiki/Category:%E5%90%8D%E5%89%8D\" title=\"Category:名前\">名前</a></li><li><a href=\"/wiki/Category:%E3%82%B3%E3%83%B3%E3%83%94%E3%83%A5%E3%83%BC%E3%82%BF%E3%81%AE%E6%96%87%E5%8C%96\" title=\"Category:コンピュータの文化\">コンピュータの文化</a></li></ul></div><div class=\"mw-hidden-catlinks mw-hidden-cats-hidden\" id=\"mw-hidden-catlinks\">隠しカテゴリ: <ul><li><a href=\"/wiki/Category:%E5%87%BA%E5%85%B8%E3%82%92%E5%BF%85%E8%A6%81%E3%81%A8%E3%81%99%E3%82%8B%E8%A8%98%E4%BA%8B/2011%E5%B9%B41%E6%9C%88\" title=\"Category:出典を必要とする記事/2011年1月\">出典を必要とする記事/2011年1月</a></li></ul></div></div>\n",
       "<div class=\"visualClear\"></div>\n",
       "</div>\n",
       "</div>\n",
       "<div id=\"mw-data-after-content\">\n",
       "<div class=\"read-more-container\"></div>\n",
       "</div>\n",
       "<div id=\"mw-navigation\">\n",
       "<h2>案内メニュー</h2>\n",
       "<div id=\"mw-head\">\n",
       "<div aria-labelledby=\"p-personal-label\" id=\"p-personal\" role=\"navigation\">\n",
       "<h3 id=\"p-personal-label\">個人用ツール</h3>\n",
       "<ul>\n",
       "<li id=\"pt-anonuserpage\">ログインしていません</li><li id=\"pt-anontalk\"><a accesskey=\"n\" href=\"/wiki/%E7%89%B9%E5%88%A5:%E3%83%88%E3%83%BC%E3%82%AF%E3%83%9A%E3%83%BC%E3%82%B8\" title=\"このIPアドレスからなされた編集についての議論 [n]\">トーク</a></li><li id=\"pt-anoncontribs\"><a accesskey=\"y\" href=\"/wiki/%E7%89%B9%E5%88%A5:%E8%87%AA%E5%88%86%E3%81%AE%E6%8A%95%E7%A8%BF%E8%A8%98%E9%8C%B2\" title=\"このIPアドレスからなされた編集の一覧 [y]\">投稿記録</a></li><li id=\"pt-createaccount\"><a href=\"/w/index.php?title=%E7%89%B9%E5%88%A5:%E3%82%A2%E3%82%AB%E3%82%A6%E3%83%B3%E3%83%88%E4%BD%9C%E6%88%90&amp;returnto=%E3%83%A1%E3%82%BF%E6%A7%8B%E6%96%87%E5%A4%89%E6%95%B0\" title=\"アカウントを作成してログインすることをお勧めしますが、必須ではありません\">アカウント作成</a></li><li id=\"pt-login\"><a accesskey=\"o\" href=\"/w/index.php?title=%E7%89%B9%E5%88%A5:%E3%83%AD%E3%82%B0%E3%82%A4%E3%83%B3&amp;returnto=%E3%83%A1%E3%82%BF%E6%A7%8B%E6%96%87%E5%A4%89%E6%95%B0\" title=\"ログインすることを推奨します。ただし、必須ではありません。 [o]\">ログイン</a></li> </ul>\n",
       "</div>\n",
       "<div id=\"left-navigation\">\n",
       "<div aria-labelledby=\"p-namespaces-label\" class=\"vectorTabs\" id=\"p-namespaces\" role=\"navigation\">\n",
       "<h3 id=\"p-namespaces-label\">名前空間</h3>\n",
       "<ul>\n",
       "<li class=\"selected\" id=\"ca-nstab-main\"><a accesskey=\"c\" href=\"/wiki/%E3%83%A1%E3%82%BF%E6%A7%8B%E6%96%87%E5%A4%89%E6%95%B0\" title=\"本文を閲覧 [c]\">ページ</a></li><li class=\"new\" id=\"ca-talk\"><a accesskey=\"t\" href=\"/w/index.php?title=%E3%83%8E%E3%83%BC%E3%83%88:%E3%83%A1%E3%82%BF%E6%A7%8B%E6%96%87%E5%A4%89%E6%95%B0&amp;action=edit&amp;redlink=1\" rel=\"discussion\" title=\"本文ページについての議論 (存在しないページ) [t]\">ノート</a></li> </ul>\n",
       "</div>\n",
       "<div aria-labelledby=\"p-variants-label\" class=\"vectorMenu emptyPortlet\" id=\"p-variants\" role=\"navigation\">\n",
       "<input aria-labelledby=\"p-variants-label\" class=\"vectorMenuCheckbox\" type=\"checkbox\"/>\n",
       "<h3 id=\"p-variants-label\">\n",
       "<span>変種</span>\n",
       "</h3>\n",
       "<ul class=\"menu\">\n",
       "</ul>\n",
       "</div>\n",
       "</div>\n",
       "<div id=\"right-navigation\">\n",
       "<div aria-labelledby=\"p-views-label\" class=\"vectorTabs\" id=\"p-views\" role=\"navigation\">\n",
       "<h3 id=\"p-views-label\">表示</h3>\n",
       "<ul>\n",
       "<li class=\"collapsible selected\" id=\"ca-view\"><a href=\"/wiki/%E3%83%A1%E3%82%BF%E6%A7%8B%E6%96%87%E5%A4%89%E6%95%B0\">閲覧</a></li><li class=\"collapsible\" id=\"ca-edit\"><a accesskey=\"e\" href=\"/w/index.php?title=%E3%83%A1%E3%82%BF%E6%A7%8B%E6%96%87%E5%A4%89%E6%95%B0&amp;action=edit\" title=\"このページを編集 [e]\">編集</a></li><li class=\"collapsible\" id=\"ca-history\"><a accesskey=\"h\" href=\"/w/index.php?title=%E3%83%A1%E3%82%BF%E6%A7%8B%E6%96%87%E5%A4%89%E6%95%B0&amp;action=history\" title=\"このページの過去の版 [h]\">履歴表示</a></li> </ul>\n",
       "</div>\n",
       "<div aria-labelledby=\"p-cactions-label\" class=\"vectorMenu emptyPortlet\" id=\"p-cactions\" role=\"navigation\">\n",
       "<input aria-labelledby=\"p-cactions-label\" class=\"vectorMenuCheckbox\" type=\"checkbox\"/>\n",
       "<h3 id=\"p-cactions-label\"><span>その他</span></h3>\n",
       "<ul class=\"menu\">\n",
       "</ul>\n",
       "</div>\n",
       "<div id=\"p-search\" role=\"search\">\n",
       "<h3>\n",
       "<label for=\"searchInput\">検索</label>\n",
       "</h3>\n",
       "<form action=\"/w/index.php\" id=\"searchform\">\n",
       "<div id=\"simpleSearch\">\n",
       "<input accesskey=\"f\" id=\"searchInput\" name=\"search\" placeholder=\"Wikipedia内を検索\" title=\"Wikipedia内を検索する [f]\" type=\"search\"/><input name=\"title\" type=\"hidden\" value=\"特別:検索\"/><input class=\"searchButton mw-fallbackSearchButton\" id=\"mw-searchButton\" name=\"fulltext\" title=\"この文字列が含まれるページを探す\" type=\"submit\" value=\"検索\"/><input class=\"searchButton\" id=\"searchButton\" name=\"go\" title=\"厳密に一致する名前のページが存在すれば、そのページへ移動する\" type=\"submit\" value=\"表示\"/> </div>\n",
       "</form>\n",
       "</div>\n",
       "</div>\n",
       "</div>\n",
       "<div id=\"mw-panel\">\n",
       "<div id=\"p-logo\" role=\"banner\"><a class=\"mw-wiki-logo\" href=\"/wiki/%E3%83%A1%E3%82%A4%E3%83%B3%E3%83%9A%E3%83%BC%E3%82%B8\" title=\"メインページに移動する\"></a></div>\n",
       "<div aria-labelledby=\"p-navigation-label\" class=\"portal\" id=\"p-navigation\" role=\"navigation\">\n",
       "<h3 id=\"p-navigation-label\">案内</h3>\n",
       "<div class=\"body\">\n",
       "<ul>\n",
       "<li id=\"n-mainpage\"><a accesskey=\"z\" href=\"/wiki/%E3%83%A1%E3%82%A4%E3%83%B3%E3%83%9A%E3%83%BC%E3%82%B8\" title=\"メインページに移動する [z]\">メインページ</a></li><li id=\"n-portal\"><a href=\"/wiki/Wikipedia:%E3%82%B3%E3%83%9F%E3%83%A5%E3%83%8B%E3%83%86%E3%82%A3%E3%83%BB%E3%83%9D%E3%83%BC%E3%82%BF%E3%83%AB\" title=\"このプロジェクトについて、できること、情報を入手する場所\">コミュニティ・ポータル</a></li><li id=\"n-currentevents\"><a href=\"/wiki/Portal:%E6%9C%80%E8%BF%91%E3%81%AE%E5%87%BA%E6%9D%A5%E4%BA%8B\" title=\"最近の出来事の背景を知る\">最近の出来事</a></li><li id=\"n-newpages\"><a href=\"/wiki/%E7%89%B9%E5%88%A5:%E6%96%B0%E3%81%97%E3%81%84%E3%83%9A%E3%83%BC%E3%82%B8\" title=\"最近新規に作成されたページの一覧\">新しいページ</a></li><li id=\"n-recentchanges\"><a accesskey=\"r\" href=\"/wiki/%E7%89%B9%E5%88%A5:%E6%9C%80%E8%BF%91%E3%81%AE%E6%9B%B4%E6%96%B0\" title=\"このウィキにおける最近の更新の一覧 [r]\">最近の更新</a></li><li id=\"n-randompage\"><a accesskey=\"x\" href=\"/wiki/%E7%89%B9%E5%88%A5:%E3%81%8A%E3%81%BE%E3%81%8B%E3%81%9B%E8%A1%A8%E7%A4%BA\" title=\"無作為に選択されたページを読み込む [x]\">おまかせ表示</a></li><li id=\"n-sandbox\"><a href=\"/wiki/Wikipedia:%E3%82%B5%E3%83%B3%E3%83%89%E3%83%9C%E3%83%83%E3%82%AF%E3%82%B9\" title=\"練習用のページ\">練習用ページ</a></li><li id=\"n-commonsupload\"><a href=\"//commons.wikimedia.org/wiki/Special:UploadWizard?uselang=ja\" title=\"画像やメディアファイルをウィキメディア・コモンズにアップロード\">アップロード (ウィキメディア・コモンズ)</a></li> </ul>\n",
       "</div>\n",
       "</div>\n",
       "<div aria-labelledby=\"p-help-label\" class=\"portal\" id=\"p-help\" role=\"navigation\">\n",
       "<h3 id=\"p-help-label\">ヘルプ</h3>\n",
       "<div class=\"body\">\n",
       "<ul>\n",
       "<li id=\"n-help\"><a href=\"/wiki/Help:%E7%9B%AE%E6%AC%A1\" title=\"情報を得る場所\">ヘルプ</a></li><li id=\"n-villagepump\"><a href=\"/wiki/Wikipedia:%E4%BA%95%E6%88%B8%E7%AB%AF\" title=\"プロジェクトについての意見交換\">井戸端</a></li><li id=\"n-notice\"><a href=\"/wiki/Wikipedia:%E3%81%8A%E7%9F%A5%E3%82%89%E3%81%9B\" title=\"プロジェクトについてのお知らせ\">お知らせ</a></li><li id=\"n-bugreportspage\"><a href=\"/wiki/Wikipedia:%E3%83%90%E3%82%B0%E3%81%AE%E5%A0%B1%E5%91%8A\" title=\"ウィキペディア・ソフトウェアのバグ報告\">バグの報告</a></li><li id=\"n-sitesupport\"><a href=\"//donate.wikimedia.org/wiki/Special:FundraiserRedirector?utm_source=donate&amp;utm_medium=sidebar&amp;utm_campaign=C13_ja.wikipedia.org&amp;uselang=ja\" title=\"ご支援ください\">寄付</a></li><li id=\"n-contact\"><a href=\"/wiki/Wikipedia:%E9%80%A3%E7%B5%A1%E5%85%88\" title=\"ウィキペディアやウィキメディア財団に関する連絡先\">ウィキペディアに関するお問い合わせ</a></li> </ul>\n",
       "</div>\n",
       "</div>\n",
       "<div aria-labelledby=\"p-tb-label\" class=\"portal\" id=\"p-tb\" role=\"navigation\">\n",
       "<h3 id=\"p-tb-label\">ツール</h3>\n",
       "<div class=\"body\">\n",
       "<ul>\n",
       "<li id=\"t-whatlinkshere\"><a accesskey=\"j\" href=\"/wiki/%E7%89%B9%E5%88%A5:%E3%83%AA%E3%83%B3%E3%82%AF%E5%85%83/%E3%83%A1%E3%82%BF%E6%A7%8B%E6%96%87%E5%A4%89%E6%95%B0\" title=\"ここにリンクしている全ウィキページの一覧 [j]\">リンク元</a></li><li id=\"t-recentchangeslinked\"><a accesskey=\"k\" href=\"/wiki/%E7%89%B9%E5%88%A5:%E9%96%A2%E9%80%A3%E3%83%9A%E3%83%BC%E3%82%B8%E3%81%AE%E6%9B%B4%E6%96%B0%E7%8A%B6%E6%B3%81/%E3%83%A1%E3%82%BF%E6%A7%8B%E6%96%87%E5%A4%89%E6%95%B0\" rel=\"nofollow\" title=\"このページからリンクしているページの最近の更新 [k]\">関連ページの更新状況</a></li><li id=\"t-upload\"><a accesskey=\"u\" href=\"/wiki/Wikipedia:%E3%83%95%E3%82%A1%E3%82%A4%E3%83%AB%E3%81%AE%E3%82%A2%E3%83%83%E3%83%97%E3%83%AD%E3%83%BC%E3%83%89\" title=\"ファイルをアップロードする [u]\">ファイルをアップロード</a></li><li id=\"t-specialpages\"><a accesskey=\"q\" href=\"/wiki/%E7%89%B9%E5%88%A5:%E7%89%B9%E5%88%A5%E3%83%9A%E3%83%BC%E3%82%B8%E4%B8%80%E8%A6%A7\" title=\"特別ページの一覧 [q]\">特別ページ</a></li><li id=\"t-permalink\"><a href=\"/w/index.php?title=%E3%83%A1%E3%82%BF%E6%A7%8B%E6%96%87%E5%A4%89%E6%95%B0&amp;oldid=75063823\" title=\"このページのこの版への固定リンク\">この版への固定リンク</a></li><li id=\"t-info\"><a href=\"/w/index.php?title=%E3%83%A1%E3%82%BF%E6%A7%8B%E6%96%87%E5%A4%89%E6%95%B0&amp;action=info\" title=\"このページについての詳細情報\">ページ情報</a></li><li id=\"t-wikibase\"><a accesskey=\"g\" href=\"https://www.wikidata.org/wiki/Special:EntityPage/Q100023\" title=\"関連付けられたデータリポジトリ項目へのリンク [g]\">ウィキデータ項目</a></li><li id=\"t-cite\"><a href=\"/w/index.php?title=%E7%89%B9%E5%88%A5:%E3%81%93%E3%81%AE%E3%83%9A%E3%83%BC%E3%82%B8%E3%82%92%E5%BC%95%E7%94%A8&amp;page=%E3%83%A1%E3%82%BF%E6%A7%8B%E6%96%87%E5%A4%89%E6%95%B0&amp;id=75063823\" title=\"このページの引用方法\">このページを引用</a></li> </ul>\n",
       "</div>\n",
       "</div>\n",
       "<div aria-labelledby=\"p-coll-print_export-label\" class=\"portal\" id=\"p-coll-print_export\" role=\"navigation\">\n",
       "<h3 id=\"p-coll-print_export-label\">印刷/書き出し</h3>\n",
       "<div class=\"body\">\n",
       "<ul>\n",
       "<li id=\"coll-create_a_book\"><a href=\"/w/index.php?title=%E7%89%B9%E5%88%A5:%E3%83%96%E3%83%83%E3%82%AF&amp;bookcmd=book_creator&amp;referer=%E3%83%A1%E3%82%BF%E6%A7%8B%E6%96%87%E5%A4%89%E6%95%B0\">ブックの新規作成</a></li><li id=\"coll-download-as-rl\"><a href=\"/w/index.php?title=%E7%89%B9%E5%88%A5:ElectronPdf&amp;page=%E3%83%A1%E3%82%BF%E6%A7%8B%E6%96%87%E5%A4%89%E6%95%B0&amp;action=show-download-screen\">PDF 形式でダウンロード</a></li><li id=\"t-print\"><a accesskey=\"p\" href=\"/w/index.php?title=%E3%83%A1%E3%82%BF%E6%A7%8B%E6%96%87%E5%A4%89%E6%95%B0&amp;printable=yes\" title=\"このページの印刷用ページ [p]\">印刷用バージョン</a></li> </ul>\n",
       "</div>\n",
       "</div>\n",
       "<div aria-labelledby=\"p-lang-label\" class=\"portal\" id=\"p-lang\" role=\"navigation\">\n",
       "<h3 id=\"p-lang-label\">他言語版</h3>\n",
       "<div class=\"body\">\n",
       "<ul>\n",
       "<li class=\"interlanguage-link interwiki-de\"><a class=\"interlanguage-link-target\" href=\"https://de.wikipedia.org/wiki/Metasyntaktische_Variable\" hreflang=\"de\" lang=\"de\" title=\"ドイツ語: Metasyntaktische Variable\">Deutsch</a></li><li class=\"interlanguage-link interwiki-en\"><a class=\"interlanguage-link-target\" href=\"https://en.wikipedia.org/wiki/Metasyntactic_variable\" hreflang=\"en\" lang=\"en\" title=\"英語: Metasyntactic variable\">English</a></li><li class=\"interlanguage-link interwiki-fa\"><a class=\"interlanguage-link-target\" href=\"https://fa.wikipedia.org/wiki/%D9%85%D8%AA%D8%BA%DB%8C%D8%B1_%D9%81%D8%B1%D8%A7%D9%86%D8%AD%D9%88%DB%8C\" hreflang=\"fa\" lang=\"fa\" title=\"ペルシア語: متغیر فرانحوی\">فارسی</a></li><li class=\"interlanguage-link interwiki-fr\"><a class=\"interlanguage-link-target\" href=\"https://fr.wikipedia.org/wiki/Variable_m%C3%A9tasyntaxique\" hreflang=\"fr\" lang=\"fr\" title=\"フランス語: Variable métasyntaxique\">Français</a></li><li class=\"interlanguage-link interwiki-he\"><a class=\"interlanguage-link-target\" href=\"https://he.wikipedia.org/wiki/%D7%9E%D7%A9%D7%AA%D7%A0%D7%94_%D7%9E%D7%98%D7%90-%D7%AA%D7%97%D7%91%D7%99%D7%A8%D7%99\" hreflang=\"he\" lang=\"he\" title=\"ヘブライ語: משתנה מטא-תחבירי\">עברית</a></li><li class=\"interlanguage-link interwiki-it\"><a class=\"interlanguage-link-target\" href=\"https://it.wikipedia.org/wiki/Variabile_metasintattica\" hreflang=\"it\" lang=\"it\" title=\"イタリア語: Variabile metasintattica\">Italiano</a></li><li class=\"interlanguage-link interwiki-nl\"><a class=\"interlanguage-link-target\" href=\"https://nl.wikipedia.org/wiki/Metasyntactische_variabele\" hreflang=\"nl\" lang=\"nl\" title=\"オランダ語: Metasyntactische variabele\">Nederlands</a></li><li class=\"interlanguage-link interwiki-pl\"><a class=\"interlanguage-link-target\" href=\"https://pl.wikipedia.org/wiki/Zmienna_metasyntaktyczna\" hreflang=\"pl\" lang=\"pl\" title=\"ポーランド語: Zmienna metasyntaktyczna\">Polski</a></li><li class=\"interlanguage-link interwiki-ru\"><a class=\"interlanguage-link-target\" href=\"https://ru.wikipedia.org/wiki/%D0%9C%D0%B5%D1%82%D0%B0%D0%BF%D0%B5%D1%80%D0%B5%D0%BC%D0%B5%D0%BD%D0%BD%D0%B0%D1%8F\" hreflang=\"ru\" lang=\"ru\" title=\"ロシア語: Метапеременная\">Русский</a></li><li class=\"interlanguage-link interwiki-sv\"><a class=\"interlanguage-link-target\" href=\"https://sv.wikipedia.org/wiki/Metavariabel\" hreflang=\"sv\" lang=\"sv\" title=\"スウェーデン語: Metavariabel\">Svenska</a></li> </ul>\n",
       "<div class=\"after-portlet after-portlet-lang\"><span class=\"wb-langlinks-edit wb-langlinks-link\"><a class=\"wbc-editpage\" href=\"https://www.wikidata.org/wiki/Special:EntityPage/Q100023#sitelinks-wikipedia\" title=\"言語間リンクを編集する\">リンクを編集</a></span></div> </div>\n",
       "</div>\n",
       "</div>\n",
       "</div>\n",
       "<div id=\"footer\" role=\"contentinfo\">\n",
       "<ul id=\"footer-info\">\n",
       "<li id=\"footer-info-lastmod\"> 最終更新 2019年11月19日 (火) 21:00 （日時は<a href=\"/wiki/%E7%89%B9%E5%88%A5:%E5%80%8B%E4%BA%BA%E8%A8%AD%E5%AE%9A#mw-prefsection-rendering\" title=\"特別:個人設定\">個人設定</a>で未設定ならば<a href=\"/wiki/%E5%8D%94%E5%AE%9A%E4%B8%96%E7%95%8C%E6%99%82\" title=\"協定世界時\">UTC</a>）。</li>\n",
       "<li id=\"footer-info-copyright\">テキストは<a href=\"//ja.wikipedia.org/wiki/Wikipedia:Text_of_Creative_Commons_Attribution-ShareAlike_3.0_Unported_License\">クリエイティブ・コモンズ 表示-継承ライセンス</a>の下で利用可能です。追加の条件が適用される場合があります。詳細は<a href=\"//foundation.wikimedia.org/wiki/Terms_of_Use/ja\">利用規約</a>を参照してください。<br/></li>\n",
       "</ul>\n",
       "<ul id=\"footer-places\">\n",
       "<li id=\"footer-places-privacy\"><a class=\"extiw\" href=\"https://meta.wikimedia.org/wiki/Privacy_policy/ja\" title=\"m:Privacy policy/ja\">プライバシー・ポリシー</a></li>\n",
       "<li id=\"footer-places-about\"><a href=\"/wiki/Wikipedia:%E3%82%A6%E3%82%A3%E3%82%AD%E3%83%9A%E3%83%87%E3%82%A3%E3%82%A2%E3%81%AB%E3%81%A4%E3%81%84%E3%81%A6\" title=\"Wikipedia:ウィキペディアについて\">ウィキペディアについて</a></li>\n",
       "<li id=\"footer-places-disclaimer\"><a href=\"/wiki/Wikipedia:%E5%85%8D%E8%B2%AC%E4%BA%8B%E9%A0%85\" title=\"Wikipedia:免責事項\">免責事項</a></li>\n",
       "<li id=\"footer-places-developers\"><a href=\"https://www.mediawiki.org/wiki/Special:MyLanguage/How_to_contribute\">開発者</a></li>\n",
       "<li id=\"footer-places-statslink\"><a href=\"https://stats.wikimedia.org/v2/#/ja.wikipedia.org\">Statistics</a></li>\n",
       "<li id=\"footer-places-cookiestatement\"><a href=\"https://foundation.wikimedia.org/wiki/Cookie_statement\">Cookieに関する声明</a></li>\n",
       "<li id=\"footer-places-mobileview\"><a class=\"noprint stopMobileRedirectToggle\" href=\"//ja.m.wikipedia.org/w/index.php?title=%E3%83%A1%E3%82%BF%E6%A7%8B%E6%96%87%E5%A4%89%E6%95%B0&amp;mobileaction=toggle_view_mobile\">モバイルビュー</a></li>\n",
       "</ul>\n",
       "<ul class=\"noprint\" id=\"footer-icons\">\n",
       "<li id=\"footer-copyrightico\">\n",
       "<a href=\"https://wikimediafoundation.org/\"><img alt=\"Wikimedia Foundation\" height=\"31\" src=\"/static/images/wikimedia-button.png\" srcset=\"/static/images/wikimedia-button-1.5x.png 1.5x, /static/images/wikimedia-button-2x.png 2x\" width=\"88\"/></a> </li>\n",
       "<li id=\"footer-poweredbyico\">\n",
       "<a href=\"https://www.mediawiki.org/\"><img alt=\"Powered by MediaWiki\" height=\"31\" src=\"/static/images/poweredby_mediawiki_88x31.png\" srcset=\"/static/images/poweredby_mediawiki_132x47.png 1.5x, /static/images/poweredby_mediawiki_176x62.png 2x\" width=\"88\"/></a> </li>\n",
       "</ul>\n",
       "<div style=\"clear: both;\"></div>\n",
       "</div>\n",
       "<script>(RLQ=window.RLQ||[]).push(function(){mw.config.set({\"wgPageParseReport\":{\"limitreport\":{\"cputime\":\"0.340\",\"walltime\":\"0.786\",\"ppvisitednodes\":{\"value\":1188,\"limit\":1000000},\"ppgeneratednodes\":{\"value\":0,\"limit\":1500000},\"postexpandincludesize\":{\"value\":5828,\"limit\":2097152},\"templateargumentsize\":{\"value\":1807,\"limit\":2097152},\"expansiondepth\":{\"value\":31,\"limit\":40},\"expensivefunctioncount\":{\"value\":1,\"limit\":500},\"unstrip-depth\":{\"value\":0,\"limit\":20},\"unstrip-size\":{\"value\":5083,\"limit\":5000000},\"entityaccesscount\":{\"value\":0,\"limit\":400},\"timingprofile\":[\"100.00%  698.378      1 -total\",\" 29.45%  205.657      1 Template:出典の明記\",\" 27.30%  190.668      2 Template:IETF_RFC\",\" 26.38%  184.202      2 Template:Catalog_lookup_link\",\" 21.36%  149.143      1 Template:Ambox\",\" 19.87%  138.739      1 Template:Main\",\" 18.94%  132.282      1 Template:Rellink\",\" 17.60%  122.928      1 Template:See/core\",\" 15.82%  110.505      1 Template:Reflist\",\" 12.13%   84.719      1 Template:Cite_web\"]},\"scribunto\":{\"limitreport-timeusage\":{\"value\":\"0.051\",\"limit\":\"10.000\"},\"limitreport-memusage\":{\"value\":948278,\"limit\":52428800}},\"cachereport\":{\"origin\":\"mw1344\",\"timestamp\":\"20191119210045\",\"ttl\":2592000,\"transientcontent\":false}}});});</script>\n",
       "<script type=\"application/ld+json\">{\"@context\":\"https:\\/\\/schema.org\",\"@type\":\"Article\",\"name\":\"\\u30e1\\u30bf\\u69cb\\u6587\\u5909\\u6570\",\"url\":\"https:\\/\\/ja.wikipedia.org\\/wiki\\/%E3%83%A1%E3%82%BF%E6%A7%8B%E6%96%87%E5%A4%89%E6%95%B0\",\"sameAs\":\"http:\\/\\/www.wikidata.org\\/entity\\/Q100023\",\"mainEntity\":\"http:\\/\\/www.wikidata.org\\/entity\\/Q100023\",\"author\":{\"@type\":\"Organization\",\"name\":\"Contributors to Wikimedia projects\"},\"publisher\":{\"@type\":\"Organization\",\"name\":\"Wikimedia Foundation, Inc.\",\"logo\":{\"@type\":\"ImageObject\",\"url\":\"https:\\/\\/www.wikimedia.org\\/static\\/images\\/wmf-hor-googpub.png\"}},\"datePublished\":\"2004-09-10T13:37:15Z\",\"dateModified\":\"2019-11-19T21:00:56Z\"}</script>\n",
       "<script>(RLQ=window.RLQ||[]).push(function(){mw.config.set({\"wgBackendResponseTime\":109,\"wgHostname\":\"mw1275\"});});</script>\n",
       "</body>\n",
       "</html>"
      ]
     },
     "execution_count": 8,
     "metadata": {},
     "output_type": "execute_result"
    }
   ],
   "source": [
    "soup"
   ]
  },
  {
   "cell_type": "code",
   "execution_count": 10,
   "metadata": {},
   "outputs": [
    {
     "data": {
      "text/plain": [
       "<p><b>メタ構文変数</b>（メタこうぶんへんすう、<span lang=\"en\">metasyntactic variable</span>）は<a href=\"/wiki/%E3%83%97%E3%83%AD%E3%82%B0%E3%83%A9%E3%83%9F%E3%83%B3%E3%82%B0%E8%A8%80%E8%AA%9E\" title=\"プログラミング言語\">プログラミング言語</a>の記述で使われる<a href=\"/wiki/%E8%AD%98%E5%88%A5%E5%AD%90\" title=\"識別子\">識別子</a>の一種。サンプルプログラムなどで意味のない名前が必要な場合に利用される、「意味のない名前」であることが広く知られた識別子のことである。\n",
       "</p>"
      ]
     },
     "execution_count": 10,
     "metadata": {},
     "output_type": "execute_result"
    }
   ],
   "source": [
    "# soup.find(\"div\").text\n",
    "mpo = soup.find(\"div\", attrs={\"class\": \"mw-parser-output\"}).find(\"p\")\n",
    "mpo"
   ]
  },
  {
   "cell_type": "code",
   "execution_count": 15,
   "metadata": {},
   "outputs": [
    {
     "data": {
      "text/plain": [
       "[<a href=\"/wiki/%E3%83%97%E3%83%AD%E3%82%B0%E3%83%A9%E3%83%9F%E3%83%B3%E3%82%B0%E8%A8%80%E8%AA%9E\" title=\"プログラミング言語\">プログラミング言語</a>,\n",
       " <a href=\"/wiki/%E8%AD%98%E5%88%A5%E5%AD%90\" title=\"識別子\">識別子</a>]"
      ]
     },
     "execution_count": 15,
     "metadata": {},
     "output_type": "execute_result"
    }
   ],
   "source": [
    "links = mpo.find_all(\"a\")\n",
    "links"
   ]
  },
  {
   "cell_type": "code",
   "execution_count": 26,
   "metadata": {},
   "outputs": [
    {
     "data": {
      "text/plain": [
       "'プログラミング言語'"
      ]
     },
     "execution_count": 26,
     "metadata": {},
     "output_type": "execute_result"
    }
   ],
   "source": [
    "s_quote = links[0].get(\"href\")[6:]\n",
    "urllib.parse.unquote(s_quote)"
   ]
  },
  {
   "cell_type": "code",
   "execution_count": 27,
   "metadata": {
    "scrolled": true
   },
   "outputs": [
    {
     "name": "stdout",
     "output_type": "stream",
     "text": [
      "プログラミング言語\n",
      "識別子\n"
     ]
    }
   ],
   "source": [
    "for link in links:\n",
    "    s_quote = link.get(\"href\")[6:]\n",
    "    print(urllib.parse.unquote(s_quote))"
   ]
  },
  {
   "cell_type": "markdown",
   "metadata": {},
   "source": [
    "### 検索"
   ]
  },
  {
   "cell_type": "code",
   "execution_count": 189,
   "metadata": {},
   "outputs": [],
   "source": [
    "# params\n",
    "base_url = \"https://ja.wikipedia.org/wiki/\""
   ]
  },
  {
   "cell_type": "code",
   "execution_count": 367,
   "metadata": {},
   "outputs": [
    {
     "data": {
      "text/plain": [
       "'https://ja.wikipedia.org/wiki/%E3%83%A1%E3%82%BF%E6%A7%8B%E6%96%87%E5%A4%89%E6%95%B0'"
      ]
     },
     "execution_count": 367,
     "metadata": {},
     "output_type": "execute_result"
    }
   ],
   "source": [
    "search_word = \"メタ構文変数\"\n",
    "search_hex = urllib.parse.quote(search_word)\n",
    "search_hex\n",
    "search_url = base_url + search_hex\n",
    "search_url"
   ]
  },
  {
   "cell_type": "code",
   "execution_count": 369,
   "metadata": {},
   "outputs": [
    {
     "name": "stdout",
     "output_type": "stream",
     "text": [
      "<a href=\"/wiki/%E3%83%97%E3%83%AD%E3%82%B0%E3%83%A9%E3%83%9F%E3%83%B3%E3%82%B0%E8%A8%80%E8%AA%9E\" title=\"プログラミング言語\">プログラミング言語</a>\n",
      "プログラミング言語\n",
      "\n",
      "<a href=\"/wiki/%E8%AD%98%E5%88%A5%E5%AD%90\" title=\"識別子\">識別子</a>\n",
      "識別子\n",
      "\n"
     ]
    }
   ],
   "source": [
    "r = requests.get(search_url)\n",
    "soup = BeautifulSoup(r.content, \"html.parser\")\n",
    "links = soup.find(\"div\", attrs={\"class\": \"mw-parser-output\"}).find(\"p\").find_all(\"a\")\n",
    "\n",
    "for link in links:\n",
    "    print(link)\n",
    "    s_quote = link.get(\"href\")[6:]\n",
    "    print(urllib.parse.unquote(s_quote))\n",
    "    print()"
   ]
  },
  {
   "cell_type": "code",
   "execution_count": 195,
   "metadata": {},
   "outputs": [],
   "source": [
    "def search_linked_word(keyword):\n",
    "#     parse url\n",
    "    search_hex = urllib.parse.quote(keyword)\n",
    "    search_url = base_url + search_hex\n",
    "    \n",
    "#     get html\n",
    "    r = requests.get(search_url)\n",
    "    soup = BeautifulSoup(r.content, \"html.parser\")\n",
    "    links = soup.find(\"div\", attrs={\"class\": \"mw-parser-output\"}).find(\"p\").find_all(\"a\")\n",
    "    \n",
    "#     get linked words\n",
    "    linkedwords = []\n",
    "    for link in links:\n",
    "        s_quote = link.get(\"href\")[6:]\n",
    "        word = urllib.parse.unquote(s_quote)\n",
    "        if \"note-\" in word:\n",
    "            continue\n",
    "        elif word == \"英語\":\n",
    "            continue\n",
    "        linkedwords.append(word)\n",
    "    return linkedwords"
   ]
  },
  {
   "cell_type": "code",
   "execution_count": 251,
   "metadata": {},
   "outputs": [],
   "source": [
    "def list_to_dict(linkedwords):\n",
    "    rd = {}\n",
    "    for t in linkedwords:\n",
    "        rd[t] = {}\n",
    "    return rd"
   ]
  },
  {
   "cell_type": "code",
   "execution_count": 247,
   "metadata": {},
   "outputs": [
    {
     "data": {
      "text/plain": [
       "['プログラミング言語', '識別子']"
      ]
     },
     "execution_count": 247,
     "metadata": {},
     "output_type": "execute_result"
    }
   ],
   "source": [
    "search_linked_word(\"メタ構文変数\")"
   ]
  },
  {
   "cell_type": "code",
   "execution_count": 196,
   "metadata": {},
   "outputs": [],
   "source": [
    "keyword = \"メタ構文変数\""
   ]
  },
  {
   "cell_type": "code",
   "execution_count": 257,
   "metadata": {
    "scrolled": false
   },
   "outputs": [
    {
     "name": "stdout",
     "output_type": "stream",
     "text": [
      "search count:  0\n",
      "search:  メタ構文変数\n",
      "{'メタ構文変数': {'プログラミング言語': {}, '識別子': {}}}\n",
      "\n",
      "search count:  1\n",
      "search:  プログラミング言語\n",
      "{'メタ構文変数': {'プログラミング言語': {}, '識別子': {}}, 'プログラミング言語': {'プログラム_(コンピュータ)': {}, '形式言語': {}}}\n",
      "\n",
      "search count:  2\n",
      "search:  識別子\n",
      "{'メタ構文変数': {'プログラミング言語': {}, '識別子': {}}, 'プログラミング言語': {'プログラム_(コンピュータ)': {}, '形式言語': {}}, '識別子': {}}\n",
      "\n",
      "['メタ構文変数', 'プログラミング言語', '識別子', 'プログラム_(コンピュータ)', '形式言語']\n"
     ]
    }
   ],
   "source": [
    "search_queue = [keyword]\n",
    "search_result = {}\n",
    "search_count = 0\n",
    "MAX_SEARCH = 3\n",
    "\n",
    "while(search_count < MAX_SEARCH):\n",
    "#     debug\n",
    "    print(\"search count: \", search_count)\n",
    "    sw = search_queue[search_count]\n",
    "    print(\"search: \", sw)\n",
    "    \n",
    "#  make lists and dicts   \n",
    "    lw = search_linked_word(sw)\n",
    "    search_count += 1\n",
    "    if len(swl) < MAX_SEARCH:\n",
    "        search_queue.extend(lw)\n",
    "    \n",
    "    search_result[sw] = list_to_dict(lw)\n",
    "    print(search_result)\n",
    "\n",
    "    print(\"\")\n",
    "print(search_queue)"
   ]
  },
  {
   "cell_type": "code",
   "execution_count": 478,
   "metadata": {},
   "outputs": [],
   "source": [
    "def get_search_word(search_result, idx):\n",
    "    for chunk in search_result:\n",
    "        if idx == chunk[3]:\n",
    "            return chunk[0]\n",
    "        else: \n",
    "            continue"
   ]
  },
  {
   "cell_type": "code",
   "execution_count": 497,
   "metadata": {},
   "outputs": [],
   "source": [
    "def get_cursor(search_result, search_word):\n",
    "    for i, chunk in enumerate(search_result):\n",
    "        if search_word in chunk:\n",
    "            return i"
   ]
  },
  {
   "cell_type": "code",
   "execution_count": 512,
   "metadata": {},
   "outputs": [
    {
     "name": "stdout",
     "output_type": "stream",
     "text": [
      "[['メタ構文変数', 1, -1]]\n",
      "\n",
      "1 3\n",
      "プログラミング言語\n",
      "4 3\n",
      "識別子\n",
      "2 4\n",
      "プログラム_(コンピュータ)\n",
      "6 4\n",
      "形式言語\n"
     ]
    },
    {
     "data": {
      "text/plain": [
       "[['メタ構文変数', 1, -1],\n",
       " ['プログラミング言語', 2, -1],\n",
       " ['プログラム_(コンピュータ)', 3, -1],\n",
       " ['コンピュータ', 4, -1],\n",
       " ['命令_(コンピュータ)', 4, -1],\n",
       " ['CPU', 4, -1],\n",
       " ['形式言語', 3, -1],\n",
       " ['文法', 4, -1],\n",
       " ['統語論', 4, -1],\n",
       " ['意味論', 4, -1],\n",
       " ['形式体系', 4, -1],\n",
       " ['言語', 4, -1],\n",
       " ['自然言語', 4, -1],\n",
       " ['人工言語', 4, -1],\n",
       " ['機械可読目録', 4, -1],\n",
       " ['形式意味論', 4, -1],\n",
       " ['識別子', 2, -1]]"
      ]
     },
     "execution_count": 512,
     "metadata": {},
     "output_type": "execute_result"
    }
   ],
   "source": [
    "s_count = 0\n",
    "MAX_SEARCH = 3\n",
    "search_result = []\n",
    "\n",
    "# phase 0\n",
    "keyword = \"メタ構文変数\"\n",
    "x_depth = 1\n",
    "y_branch = -1\n",
    "chunk = [keyword, x_depth, y_branch]\n",
    "search_queue = [keyword]\n",
    "search_result.append(chunk)\n",
    "print(search_result)\n",
    "print()\n",
    "\n",
    "search_word = search_queue[s_count]\n",
    "cursor = get_cursor(search_result, search_word)\n",
    "x_depth = search_result[cursor][1] + 1\n",
    "y_branch = search_result[cursor][2]\n",
    "\n",
    "wordlist = search_linked_word(search_word)\n",
    "s_count += 1\n",
    "search_queue.extend(wordlist)\n",
    "\n",
    "for i, word in enumerate(wordlist):\n",
    "    chunk = [word, x_depth, y_branch]\n",
    "    search_result.insert(cursor+i+1, chunk)\n",
    "\n",
    "search_word = search_queue[s_count]\n",
    "cursor = get_cursor(search_result, search_word)\n",
    "x_depth = search_result[cursor][1] + 1\n",
    "y_branch = search_result[cursor][2]\n",
    "print(cursor, x_depth)\n",
    "print(search_word)\n",
    "wordlist = search_linked_word(search_word)\n",
    "s_count += 1\n",
    "search_queue.extend(wordlist)\n",
    "for i, word in enumerate(wordlist):\n",
    "    chunk = [word, x_depth, y_branch]\n",
    "    search_result.insert(cursor+i+1, chunk)\n",
    "\n",
    "search_word = search_queue[s_count]\n",
    "cursor = get_cursor(search_result, search_word)\n",
    "x_depth = search_result[cursor][1] + 1\n",
    "y_branch = search_result[cursor][2]\n",
    "print(cursor, x_depth)\n",
    "print(search_word)\n",
    "wordlist = search_linked_word(search_word)\n",
    "s_count += 1\n",
    "search_queue.extend(wordlist)\n",
    "for i, word in enumerate(wordlist):\n",
    "    chunk = [word, x_depth, y_branch]\n",
    "    search_result.insert(cursor+i+1, chunk)    \n",
    "\n",
    "search_word = search_queue[s_count]\n",
    "cursor = get_cursor(search_result, search_word)\n",
    "x_depth = search_result[cursor][1] + 1\n",
    "y_branch = search_result[cursor][2]\n",
    "print(cursor, x_depth)\n",
    "print(search_word)\n",
    "wordlist = search_linked_word(search_word)\n",
    "s_count += 1\n",
    "search_queue.extend(wordlist)\n",
    "for i, word in enumerate(wordlist):\n",
    "    chunk = [word, x_depth, y_branch]\n",
    "    search_result.insert(cursor+i+1, chunk)    \n",
    "    \n",
    "search_word = search_queue[s_count]\n",
    "cursor = get_cursor(search_result, search_word)\n",
    "x_depth = search_result[cursor][1] + 1\n",
    "y_branch = search_result[cursor][2]\n",
    "print(cursor, x_depth)\n",
    "print(search_word)\n",
    "wordlist = search_linked_word(search_word)\n",
    "s_count += 1\n",
    "search_queue.extend(wordlist)\n",
    "for i, word in enumerate(wordlist):\n",
    "    chunk = [word, x_depth, y_branch]\n",
    "    search_result.insert(cursor+i+1, chunk)    \n",
    "\n",
    "\n",
    "search_result"
   ]
  },
  {
   "cell_type": "code",
   "execution_count": 513,
   "metadata": {},
   "outputs": [
    {
     "name": "stdout",
     "output_type": "stream",
     "text": [
      " - メタ構文変数\n",
      " -  - プログラミング言語\n",
      " -  -  - プログラム_(コンピュータ)\n",
      " -  -  -  - コンピュータ\n",
      " -  -  -  - 命令_(コンピュータ)\n",
      " -  -  -  - CPU\n",
      " -  -  - 形式言語\n",
      " -  -  -  - 文法\n",
      " -  -  -  - 統語論\n",
      " -  -  -  - 意味論\n",
      " -  -  -  - 形式体系\n",
      " -  -  -  - 言語\n",
      " -  -  -  - 自然言語\n",
      " -  -  -  - 人工言語\n",
      " -  -  -  - 機械可読目録\n",
      " -  -  -  - 形式意味論\n",
      " -  - 識別子\n"
     ]
    }
   ],
   "source": [
    "final_print(search_result)"
   ]
  },
  {
   "cell_type": "code",
   "execution_count": 519,
   "metadata": {},
   "outputs": [
    {
     "name": "stdout",
     "output_type": "stream",
     "text": [
      " - メタ構文変数\n",
      " -  - プログラミング言語\n",
      " -  -  - プログラム_(コンピュータ)\n",
      " -  -  -  - コンピュータ\n",
      " -  -  -  -  - 数値計算\n",
      " -  -  -  -  - 情報処理\n",
      " -  -  -  -  - データ処理\n",
      " -  -  -  -  - プログラム内蔵方式\n",
      " -  -  -  -  - ディジタル\n",
      " -  -  -  -  - パーソナルコンピュータ\n",
      " -  -  -  -  - メインフレーム\n",
      " -  -  -  -  - スーパーコンピュータ\n",
      " -  -  -  - 命令_(コンピュータ)\n",
      " -  -  -  -  - コンピュータ\n",
      " -  -  -  -  - CPU\n",
      " -  -  -  - CPU\n",
      " -  -  - 形式言語\n",
      " -  -  -  - 文法\n",
      " -  -  -  - 統語論\n",
      " -  -  -  - 意味論\n",
      " -  -  -  - 形式体系\n",
      " -  -  -  - 言語\n",
      " -  -  -  - 自然言語\n",
      " -  -  -  - 人工言語\n",
      " -  -  -  - 機械可読目録\n",
      " -  -  -  - 形式意味論\n",
      " -  - 識別子\n"
     ]
    }
   ],
   "source": [
    "s_count = 0\n",
    "MAX_SEARCH = 3\n",
    "search_result = []\n",
    "\n",
    "# phase 0\n",
    "keyword = \"メタ構文変数\"\n",
    "x_depth = 1\n",
    "y_branch = -1\n",
    "chunk = [keyword, x_depth, y_branch]\n",
    "search_queue = [keyword]\n",
    "search_result.append(chunk)\n",
    "\n",
    "for s_count in range(7):\n",
    "    search_word = search_queue[s_count]\n",
    "    cursor = get_cursor(search_result, search_word)\n",
    "    x_depth = search_result[cursor][1] + 1\n",
    "    y_branch = search_result[cursor][2]\n",
    "#     print(cursor, x_depth)\n",
    "#     print(search_word)\n",
    "    wordlist = search_linked_word(search_word)\n",
    "#     s_count += 1\n",
    "    search_queue.extend(wordlist)\n",
    "    for i, word in enumerate(wordlist):\n",
    "        chunk = [word, x_depth, y_branch]\n",
    "        search_result.insert(cursor+i+1, chunk)\n",
    "    \n",
    "final_print(search_result)"
   ]
  },
  {
   "cell_type": "code",
   "execution_count": null,
   "metadata": {},
   "outputs": [],
   "source": []
  },
  {
   "cell_type": "code",
   "execution_count": 271,
   "metadata": {},
   "outputs": [
    {
     "data": {
      "text/plain": [
       "{'メタ構文変数': {'プログラミング言語': {'プログラム_(コンピュータ)': {'コンピュータ': {'数値計算': {},\n",
       "     '情報処理': {}},\n",
       "    '命令_(コンピュータ)': {},\n",
       "    'CPU': {}},\n",
       "   '形式言語': {'文法': {}, '統語論': {}, '意味論': {}}},\n",
       "  '識別子': {}}}"
      ]
     },
     "execution_count": 271,
     "metadata": {},
     "output_type": "execute_result"
    }
   ],
   "source": [
    "total_result = {\n",
    "    'メタ構文変数': {\n",
    "        'プログラミング言語': {\n",
    "            'プログラム_(コンピュータ)': {\n",
    "                'コンピュータ': {\n",
    "                    '数値計算': {},\n",
    "                    '情報処理': {}\n",
    "                },\n",
    "                '命令_(コンピュータ)': {},\n",
    "                'CPU': {}\n",
    "            },\n",
    "            '形式言語': {\n",
    "                '文法': {}, \n",
    "                '統語論': {}, \n",
    "                '意味論': {}\n",
    "            }\n",
    "        },\n",
    "         '識別子': {}\n",
    "    }\n",
    "}\n",
    "\n",
    "total_result"
   ]
  },
  {
   "cell_type": "markdown",
   "metadata": {},
   "source": [
    "### 辞書型で表示"
   ]
  },
  {
   "cell_type": "code",
   "execution_count": 244,
   "metadata": {},
   "outputs": [
    {
     "name": "stdout",
     "output_type": "stream",
     "text": [
      " - メタ構文変数\n",
      " -  - プログラミング言語\n",
      " -  -  - プログラム_(コンピュータ)\n",
      " -  -  -  - コンピュータ\n",
      " -  -  -  - 命令_(コンピュータ)\n",
      " -  -  -  - CPU\n",
      " -  -  - 形式言語\n",
      " -  -  -  - 文法\n",
      " -  -  -  - 統語論\n",
      " -  -  -  - 意味論\n",
      " -  - 識別子\n"
     ]
    }
   ],
   "source": [
    "indent = \" - \"\n",
    "\n",
    "for key in total_result:\n",
    "    depth = 1\n",
    "    print(indent * depth + key)\n",
    "    \n",
    "    for key_c in total_result[key]:\n",
    "        depth = 2\n",
    "        print(indent * depth + key_c)\n",
    "        \n",
    "        for key_cc in total_result[key][key_c]:\n",
    "            depth = 3\n",
    "            print(indent * depth + key_cc)\n",
    "            \n",
    "            for key_ccc in total_result[key][key_c][key_cc]:\n",
    "                depth = 4\n",
    "                print(indent * depth + key_ccc)\n"
   ]
  },
  {
   "cell_type": "markdown",
   "metadata": {},
   "source": [
    "### タプルのリストで表示"
   ]
  },
  {
   "cell_type": "code",
   "execution_count": 275,
   "metadata": {},
   "outputs": [
    {
     "data": {
      "text/plain": [
       "[('メタ構文変数', 1),\n",
       " ('プログラミング言語', 2),\n",
       " ('プログラム_(コンピュータ)', 3),\n",
       " ('コンピュータ', 4),\n",
       " ('命令_(コンピュータ)', 4),\n",
       " ('CPU', 4),\n",
       " ('形式言語', 3),\n",
       " ('文法', 4),\n",
       " ('統語論', 4),\n",
       " ('意味論', 4),\n",
       " ('識別子', 2)]"
      ]
     },
     "execution_count": 275,
     "metadata": {},
     "output_type": "execute_result"
    }
   ],
   "source": [
    "total_result = [\n",
    "    ('メタ構文変数', 1),\n",
    "    ('プログラミング言語', 2),\n",
    "    ('プログラム_(コンピュータ)', 3),\n",
    "    ('コンピュータ', 4),\n",
    "    ('命令_(コンピュータ)', 4),\n",
    "    ('CPU', 4),\n",
    "    ('形式言語', 3),\n",
    "    ('文法', 4),\n",
    "    ('統語論', 4),\n",
    "    ('意味論', 4),\n",
    "    ('識別子', 2)\n",
    "]\n",
    "\n",
    "total_result"
   ]
  },
  {
   "cell_type": "code",
   "execution_count": 276,
   "metadata": {},
   "outputs": [
    {
     "name": "stdout",
     "output_type": "stream",
     "text": [
      " - メタ構文変数\n",
      " -  - プログラミング言語\n",
      " -  -  - プログラム_(コンピュータ)\n",
      " -  -  -  - コンピュータ\n",
      " -  -  -  - 命令_(コンピュータ)\n",
      " -  -  -  - CPU\n",
      " -  -  - 形式言語\n",
      " -  -  -  - 文法\n",
      " -  -  -  - 統語論\n",
      " -  -  -  - 意味論\n",
      " -  - 識別子\n"
     ]
    }
   ],
   "source": [
    "indent = \" - \"\n",
    "for tup in total_result:\n",
    "    print(indent*tup[1] + tup[0])"
   ]
  },
  {
   "cell_type": "markdown",
   "metadata": {},
   "source": [
    "### 階層と番号の数字で表現"
   ]
  },
  {
   "cell_type": "code",
   "execution_count": 285,
   "metadata": {},
   "outputs": [
    {
     "data": {
      "text/plain": [
       "[('メタ構文変数', 1),\n",
       " ('プログラミング言語', 11),\n",
       " ('プログラム_(コンピュータ)', 111),\n",
       " ('コンピュータ', 1111),\n",
       " ('命令_(コンピュータ)', 1112),\n",
       " ('CPU', 1113),\n",
       " ('形式言語', 112),\n",
       " ('文法', 1121),\n",
       " ('統語論', 1122),\n",
       " ('意味論', 1123),\n",
       " ('識別子', 12)]"
      ]
     },
     "execution_count": 285,
     "metadata": {},
     "output_type": "execute_result"
    }
   ],
   "source": [
    "total_result = [\n",
    "    ('メタ構文変数', 1),\n",
    "    ('プログラミング言語', 11),\n",
    "    ('プログラム_(コンピュータ)', 111),\n",
    "    ('コンピュータ', 1111),\n",
    "    ('命令_(コンピュータ)', 1112),\n",
    "    ('CPU', 1113),\n",
    "    ('形式言語', 112),\n",
    "    ('文法', 1121),\n",
    "    ('統語論', 1122),\n",
    "    ('意味論', 1123),\n",
    "    ('識別子', 12)\n",
    "]\n",
    "\n",
    "total_result"
   ]
  },
  {
   "cell_type": "code",
   "execution_count": 286,
   "metadata": {},
   "outputs": [
    {
     "name": "stdout",
     "output_type": "stream",
     "text": [
      " - メタ構文変数\n",
      " -  - プログラミング言語\n",
      " -  -  - プログラム_(コンピュータ)\n",
      " -  -  -  - コンピュータ\n",
      " -  -  -  - 命令_(コンピュータ)\n",
      " -  -  -  - CPU\n",
      " -  -  - 形式言語\n",
      " -  -  -  - 文法\n",
      " -  -  -  - 統語論\n",
      " -  -  -  - 意味論\n",
      " -  - 識別子\n"
     ]
    }
   ],
   "source": [
    "indent = \" - \"\n",
    "for tup in total_result:\n",
    "    ind_len = len(str(tup[1]))\n",
    "    print(indent*ind_len + tup[0])"
   ]
  },
  {
   "cell_type": "markdown",
   "metadata": {},
   "source": [
    "### 単語, 階層, 検索順で表現"
   ]
  },
  {
   "cell_type": "code",
   "execution_count": 383,
   "metadata": {},
   "outputs": [
    {
     "data": {
      "text/plain": [
       "[('メタ構文変数', 1, 1),\n",
       " ('プログラミング言語', 2, 2),\n",
       " ('プログラム_(コンピュータ)', 3, 4),\n",
       " ('コンピュータ', 4, 6),\n",
       " ('命令_(コンピュータ)', 4, 7),\n",
       " ('CPU', 4, 8),\n",
       " ('形式言語', 3, 5),\n",
       " ('文法', 4, 9),\n",
       " ('統語論', 4, 10),\n",
       " ('意味論', 4, 11),\n",
       " ('識別子', 2, 3)]"
      ]
     },
     "execution_count": 383,
     "metadata": {},
     "output_type": "execute_result"
    }
   ],
   "source": [
    "# (単語, 階層, 検索順)\n",
    "total_result = [\n",
    "    ('メタ構文変数', 1,1),\n",
    "    ('プログラミング言語', 2, 2),\n",
    "    ('プログラム_(コンピュータ)', 3, 4),\n",
    "    ('コンピュータ', 4, 6),\n",
    "    ('命令_(コンピュータ)', 4, 7),\n",
    "    ('CPU', 4, 8),\n",
    "    ('形式言語', 3, 5),\n",
    "    ('文法', 4, 9),\n",
    "    ('統語論', 4, 10),\n",
    "    ('意味論', 4, 11),\n",
    "    ('識別子', 2, 3)\n",
    "]\n",
    "\n",
    "total_result"
   ]
  },
  {
   "cell_type": "code",
   "execution_count": 385,
   "metadata": {},
   "outputs": [
    {
     "name": "stdout",
     "output_type": "stream",
     "text": [
      " - メタ構文変数\n",
      " -  - プログラミング言語\n",
      " -  -  - プログラム_(コンピュータ)\n",
      " -  -  -  - コンピュータ\n",
      " -  -  -  - 命令_(コンピュータ)\n",
      " -  -  -  - CPU\n",
      " -  -  - 形式言語\n",
      " -  -  -  - 文法\n",
      " -  -  -  - 統語論\n",
      " -  -  -  - 意味論\n",
      " -  - 識別子\n"
     ]
    }
   ],
   "source": [
    "indent = \" - \"\n",
    "for tup in total_result:\n",
    "    ind_len = (tup[1])\n",
    "    print(indent*ind_len + tup[0])"
   ]
  },
  {
   "cell_type": "code",
   "execution_count": null,
   "metadata": {},
   "outputs": [],
   "source": []
  },
  {
   "cell_type": "code",
   "execution_count": null,
   "metadata": {},
   "outputs": [],
   "source": []
  },
  {
   "cell_type": "code",
   "execution_count": null,
   "metadata": {},
   "outputs": [],
   "source": []
  },
  {
   "cell_type": "code",
   "execution_count": null,
   "metadata": {},
   "outputs": [],
   "source": []
  },
  {
   "cell_type": "code",
   "execution_count": null,
   "metadata": {},
   "outputs": [],
   "source": []
  },
  {
   "cell_type": "code",
   "execution_count": null,
   "metadata": {},
   "outputs": [],
   "source": []
  },
  {
   "cell_type": "code",
   "execution_count": 320,
   "metadata": {},
   "outputs": [
    {
     "name": "stdout",
     "output_type": "stream",
     "text": [
      "1\n",
      "\n",
      "2\n",
      "\n",
      "3\n"
     ]
    },
    {
     "data": {
      "text/plain": [
       "{'メタ構文変数': 1,\n",
       " 'プログラミング言語': 11,\n",
       " '識別子': 12,\n",
       " 'プログラム_(コンピュータ)': 111,\n",
       " '形式言語': 112,\n",
       " 'コンピュータ': 1111,\n",
       " '命令_(コンピュータ)': 1112,\n",
       " 'CPU': 1113}"
      ]
     },
     "execution_count": 320,
     "metadata": {},
     "output_type": "execute_result"
    }
   ],
   "source": [
    "# params\n",
    "keyword = \"メタ構文変数\"\n",
    "search_count = 0\n",
    "MAX_SEARCH = 3\n",
    "\n",
    "# memory\n",
    "search_queue = []\n",
    "search_result = {}\n",
    "\n",
    "# keyword0\n",
    "depth = 0\n",
    "search_queue.append(keyword)\n",
    "d = depth+1\n",
    "search_result[keyword] = d\n",
    "\n",
    "# d1\n",
    "depth = 1\n",
    "print(depth)\n",
    "sw = search_queue[0]\n",
    "lw = search_linked_word(sw)\n",
    "search_queue.extend(lw)\n",
    "for i, w in enumerate(lw):\n",
    "    d = 10*search_result[sw] + i + 1\n",
    "    search_result[w] = d\n",
    "    \n",
    "print(\"\")\n",
    "# d2\n",
    "depth = 2\n",
    "print(depth)\n",
    "# d2-1\n",
    "sw = search_queue[1]\n",
    "lw = search_linked_word(sw)\n",
    "search_queue.extend(lw)\n",
    "for i, w in enumerate(lw):\n",
    "    d = 10*search_result[sw] + i + 1\n",
    "    search_result[w] = d\n",
    "# d2-2\n",
    "sw = search_queue[2]\n",
    "lw = search_linked_word(sw)\n",
    "search_queue.extend(lw)\n",
    "for i, w in enumerate(lw):\n",
    "    d = 10*search_result[sw] + i + 1\n",
    "    search_result[w] = d\n",
    "\n",
    "print(\"\")\n",
    "# d3\n",
    "depth = 3\n",
    "print(depth)\n",
    "# d3-1\n",
    "sw = search_queue[3]\n",
    "lw = search_linked_word(sw)\n",
    "search_queue.extend(lw)\n",
    "for i, w in enumerate(lw):\n",
    "    d = 10*search_result[sw] + i + 1\n",
    "    search_result[w] = d\n",
    "\n",
    "\n",
    "search_result"
   ]
  },
  {
   "cell_type": "markdown",
   "metadata": {},
   "source": [
    "### ソート"
   ]
  },
  {
   "cell_type": "code",
   "execution_count": 366,
   "metadata": {},
   "outputs": [
    {
     "name": "stdout",
     "output_type": "stream",
     "text": [
      "1\n",
      "11\n",
      "111\n",
      "1111\n",
      "1112\n",
      "112\n",
      "12\n",
      "error or end\n",
      "[1, 11, 12, 111, 112, 1111, 1112]\n",
      "[1, 11, 111, 1111, 1112, 112, 12]\n",
      "[1, 11, 111, 1111, 1112, 112, 12]\n"
     ]
    }
   ],
   "source": [
    "start = [1, 11, 12, 111, 112, 1111, 1112]\n",
    "correct = [1, 11, 111, 1111, 1112, 112, 12]\n",
    "goal = []\n",
    "\n",
    "chumoku = start[0]\n",
    "\n",
    "for i in range(len(start)):\n",
    "    print(chumoku)\n",
    "    goal.append(chumoku)\n",
    "    if chumoku*10+1 in start:            \n",
    "        chumoku = chumoku*10+1\n",
    "    elif chumoku+1 in start:\n",
    "        chumoku = chumoku+1\n",
    "    elif chumoku//10+1 in start:\n",
    "        chumoku = chumoku//10 + 1\n",
    "    else:\n",
    "        print(\"error or end\")\n",
    "        break\n",
    "    \n",
    "print(start)\n",
    "print(correct)\n",
    "print(goal)"
   ]
  },
  {
   "cell_type": "code",
   "execution_count": null,
   "metadata": {},
   "outputs": [],
   "source": []
  },
  {
   "cell_type": "markdown",
   "metadata": {},
   "source": [
    "## 完成系"
   ]
  },
  {
   "cell_type": "code",
   "execution_count": 570,
   "metadata": {},
   "outputs": [],
   "source": [
    "import requests\n",
    "import time\n",
    "import urllib.parse\n",
    "from bs4 import BeautifulSoup"
   ]
  },
  {
   "cell_type": "code",
   "execution_count": 572,
   "metadata": {},
   "outputs": [],
   "source": [
    "def search_linked_word(keyword):\n",
    "#     parse url\n",
    "    search_hex = urllib.parse.quote(keyword)\n",
    "    search_url = base_url + search_hex\n",
    "    \n",
    "#     get html\n",
    "    r = requests.get(search_url)\n",
    "#     time.sleep(1)\n",
    "    soup = BeautifulSoup(r.content, \"html.parser\")\n",
    "    links = soup.select(\"div.mw-parser-output > p\")[0].find_all(\"a\")\n",
    "    \n",
    "#     get linked words\n",
    "    linkedwords = []\n",
    "    for link in links:\n",
    "        s_quote = link.get(\"href\")[6:]\n",
    "        word = urllib.parse.unquote(s_quote)\n",
    "        if \"note-\" in word:\n",
    "            continue\n",
    "        elif word == \"英語\":\n",
    "            continue\n",
    "        linkedwords.append(word)\n",
    "    return linkedwords"
   ]
  },
  {
   "cell_type": "code",
   "execution_count": 419,
   "metadata": {},
   "outputs": [],
   "source": [
    "def get_search_word(search_result, search_index):\n",
    "    for word_tuple in search_result:\n",
    "        if search_index == word_tuple[2]:\n",
    "            search_word = word_tuple[0]\n",
    "    return search_word"
   ]
  },
  {
   "cell_type": "code",
   "execution_count": 428,
   "metadata": {},
   "outputs": [],
   "source": [
    "def get_cursor(search_result, search_word):\n",
    "    for i, chunk in enumerate(search_result):\n",
    "        if search_word in chunk:\n",
    "            return i"
   ]
  },
  {
   "cell_type": "code",
   "execution_count": 574,
   "metadata": {},
   "outputs": [],
   "source": [
    "def final_print(search_result, unsearched):\n",
    "    indent = \" - \"\n",
    "    for chunk in search_result:\n",
    "        indent_length = chunk[1]\n",
    "        word = chunk[0]\n",
    "        if word in unsearched:\n",
    "            word = word + \"$\"\n",
    "        print(indent*indent_length + word)"
   ]
  },
  {
   "cell_type": "code",
   "execution_count": 420,
   "metadata": {},
   "outputs": [
    {
     "data": {
      "text/plain": [
       "['プログラミング言語', '識別子']"
      ]
     },
     "execution_count": 420,
     "metadata": {},
     "output_type": "execute_result"
    }
   ],
   "source": [
    "search_linked_word(\"メタ構文変数\")"
   ]
  },
  {
   "cell_type": "code",
   "execution_count": 371,
   "metadata": {},
   "outputs": [],
   "source": [
    "# params\n",
    "base_url = \"https://ja.wikipedia.org/wiki/\"\n",
    "MAX_SEARCH = 10"
   ]
  },
  {
   "cell_type": "code",
   "execution_count": 579,
   "metadata": {},
   "outputs": [
    {
     "name": "stdout",
     "output_type": "stream",
     "text": [
      "1 メタ構文変数\n",
      "2 プログラミング言語\n",
      "2 識別子\n",
      "3 プログラム_(コンピュータ)\n",
      "3 形式言語\n",
      "4 コンピュータ\n",
      "4 命令_(コンピュータ)\n",
      "4 CPU\n",
      "4 文法\n",
      "4 統語論\n",
      "\n",
      " - メタ構文変数\n",
      " -  - プログラミング言語\n",
      " -  -  - プログラム_(コンピュータ)\n",
      " -  -  -  - コンピュータ$\n",
      " -  -  -  -  - 数値計算$\n",
      " -  -  -  -  - 情報処理$\n",
      " -  -  -  -  - データ処理$\n",
      " -  -  -  -  - プログラム内蔵方式$\n",
      " -  -  -  -  - ディジタル$\n",
      " -  -  -  -  - パーソナルコンピュータ$\n",
      " -  -  -  -  - メインフレーム$\n",
      " -  -  -  -  - スーパーコンピュータ$\n",
      " -  -  -  - 命令_(コンピュータ)\n",
      " -  -  -  -  - コンピュータ@\n",
      " -  -  -  -  - CPU@\n",
      " -  -  -  - CPU$\n",
      " -  -  -  -  - コンピュータ@\n",
      " -  -  -  -  - プロセッサ$\n",
      " -  -  - 形式言語$\n",
      " -  -  -  - 文法\n",
      " -  -  -  -  - 言語@\n",
      " -  -  -  -  - 体系$\n",
      " -  -  -  -  - モデル_(自然科学)$\n",
      " -  -  -  -  - 個別言語$\n",
      " -  -  -  -  - 規範$\n",
      " -  -  -  -  - 自然言語@\n",
      " -  -  -  -  - 形式言語@\n",
      " -  -  -  -  - 形式文法$\n",
      " -  -  -  -  - 統語論@\n",
      " -  -  -  - 統語論$\n",
      " -  -  -  -  - ヒト$\n",
      " -  -  -  -  - 人間$\n",
      " -  -  -  -  - 言語@\n",
      " -  -  -  -  - 文$\n",
      " -  -  -  -  - 言語学$\n",
      " -  -  -  - 意味論$\n",
      " -  -  -  - 形式体系$\n",
      " -  -  -  - 言語$\n",
      " -  -  -  - 自然言語$\n",
      " -  -  -  - 人工言語$\n",
      " -  -  -  - 機械可読目録$\n",
      " -  -  -  - 形式意味論$\n",
      " -  - 識別子\n"
     ]
    }
   ],
   "source": [
    "s_count = 0\n",
    "search_result = []\n",
    "\n",
    "# phase 0\n",
    "keyword = \"メタ構文変数\"\n",
    "x_depth = 1\n",
    "chunk = [keyword, x_depth]\n",
    "search_queue = [keyword]\n",
    "search_result.append(chunk)\n",
    "\n",
    "for s_count in range(MAX_SEARCH):\n",
    "    search_word = search_queue[s_count]\n",
    "    if search_word[-1] == \"@\":\n",
    "        continue\n",
    "    cursor = get_cursor(search_result, search_word)\n",
    "    x_depth = search_result[cursor][1] + 1\n",
    "    print(x_depth-1, search_word)\n",
    "    wordlist = search_linked_word(search_word)\n",
    "    search_queue.extend(wordlist)\n",
    "    for i, word in enumerate(wordlist):\n",
    "        if search_queue.count(word) > 1:\n",
    "            word = word + \"@\"\n",
    "        chunk = [word, x_depth]\n",
    "        search_result.insert(cursor+i+1, chunk)\n",
    "    \n",
    "print()\n",
    "unsearched = search_queue[s_count:]\n",
    "final_print(search_result, unsearched)"
   ]
  },
  {
   "cell_type": "code",
   "execution_count": 577,
   "metadata": {},
   "outputs": [
    {
     "name": "stdout",
     "output_type": "stream",
     "text": [
      " - メタ構文変数\n",
      " -  - プログラミング言語\n",
      " -  -  - プログラム_(コンピュータ)\n",
      " -  -  -  - コンピュータ$\n",
      " -  -  -  -  - 数値計算$\n",
      " -  -  -  -  - 情報処理$\n",
      " -  -  -  -  - データ処理$\n",
      " -  -  -  -  - プログラム内蔵方式$\n",
      " -  -  -  -  - ディジタル$\n",
      " -  -  -  -  - パーソナルコンピュータ$\n",
      " -  -  -  -  - メインフレーム$\n",
      " -  -  -  -  - スーパーコンピュータ$\n",
      " -  -  -  - 命令_(コンピュータ)\n",
      " -  -  -  -  - コンピュータ@\n",
      " -  -  -  -  - CPU@\n",
      " -  -  -  - CPU$\n",
      " -  -  -  -  - コンピュータ@\n",
      " -  -  -  -  - プロセッサ$\n",
      " -  -  - 形式言語$\n",
      " -  -  -  - 文法\n",
      " -  -  -  -  - 言語@\n",
      " -  -  -  -  - 体系$\n",
      " -  -  -  -  - モデル_(自然科学)$\n",
      " -  -  -  -  - 個別言語$\n",
      " -  -  -  -  - 規範$\n",
      " -  -  -  -  - 自然言語@\n",
      " -  -  -  -  - 形式言語@\n",
      " -  -  -  -  - 形式文法$\n",
      " -  -  -  -  - 統語論@\n",
      " -  -  -  - 統語論$\n",
      " -  -  -  -  - ヒト$\n",
      " -  -  -  -  - 人間$\n",
      " -  -  -  -  - 言語@\n",
      " -  -  -  -  - 文$\n",
      " -  -  -  -  - 言語学$\n",
      " -  -  -  - 意味論$\n",
      " -  -  -  - 形式体系$\n",
      " -  -  -  - 言語$\n",
      " -  -  -  - 自然言語$\n",
      " -  -  -  - 人工言語$\n",
      " -  -  -  - 機械可読目録$\n",
      " -  -  -  - 形式意味論$\n",
      " -  - 識別子\n"
     ]
    }
   ],
   "source": [
    "final_print(search_result, unsearched)"
   ]
  },
  {
   "cell_type": "code",
   "execution_count": null,
   "metadata": {},
   "outputs": [],
   "source": []
  },
  {
   "cell_type": "code",
   "execution_count": null,
   "metadata": {},
   "outputs": [],
   "source": []
  },
  {
   "cell_type": "code",
   "execution_count": null,
   "metadata": {},
   "outputs": [],
   "source": []
  },
  {
   "cell_type": "code",
   "execution_count": 1,
   "metadata": {},
   "outputs": [
    {
     "name": "stdout",
     "output_type": "stream",
     "text": [
      "Start\n",
      "メタ構文変数\n",
      "  -プログラミング言語\n",
      "    -プログラム (コンピュータ)\n",
      "      -コンピュータ\n",
      "        -数値計算$\n",
      "        -情報処理$\n",
      "        -データ処理$\n",
      "        -プログラム内蔵方式$\n",
      "        -ディジタル$\n",
      "        -パーソナルコンピュータ$\n",
      "        -メインフレーム$\n",
      "        -スーパーコンピュータ$\n",
      "      -命令 (コンピュータ)\n",
      "        -コンピュータ@\n",
      "        -CPU$\n",
      "      -CPU@\n",
      "    -形式言語\n",
      "      -文法\n",
      "        -言語$\n",
      "        -体系$\n",
      "        -モデル (自然科学)$\n",
      "        -個別言語$\n",
      "        -規範$\n",
      "        -自然言語$\n",
      "        -形式言語@\n",
      "        -形式文法$\n",
      "        -統語論$\n",
      "      -統語論@\n",
      "      -意味論\n",
      "        -言語学$\n",
      "        -統語論@\n",
      "        -数学$\n",
      "        -数理論理学$\n",
      "        -証明論$\n",
      "        -意味$\n",
      "        -一般意味論$\n",
      "      -形式体系\n",
      "        -数学@\n",
      "        -Well-defined$\n",
      "        -抽象化$\n",
      "        -エウクレイデス$\n",
      "        -ユークリッド原論$\n",
      "        -論理包含$\n",
      "        -ユークリッド幾何学$\n",
      "        -証明論@\n",
      "        -モデル理論$\n",
      "        -バールーフ・デ・スピノザ$\n",
      "        -エチカ (スピノザ)$\n",
      "      -言語@\n",
      "      -自然言語@\n",
      "      -人工言語\n",
      "        -ノート:人工言語$\n",
      "      -機械可読目録\n",
      "        -図書館情報学$\n",
      "        -通信$\n",
      "        -書誌学$\n",
      "        -データ$\n",
      "        -アメリカ議会図書館$\n",
      "        -en:Henriette Avram$\n",
      "        -コンピュータ@\n",
      "        -通信プロトコル$\n",
      "        -データ要素 (存在しないページ)$\n",
      "        -図書目録$\n",
      "      -形式意味論\n",
      "        -自然言語@\n",
      "        -プログラミング言語@\n",
      "        -意味論@\n",
      "        -プログラム意味論$\n",
      "        -プログラム意味論@\n",
      "  -識別子\n"
     ]
    }
   ],
   "source": [
    "# -*- coding: utf-8 -*-\n",
    "import requests\n",
    "from bs4 import BeautifulSoup\n",
    "import urllib.parse\n",
    "from time import sleep\n",
    "base_url = 'https://ja.wikipedia.org'\n",
    "reached = []\n",
    "abort = [\"None\",\"英語\"]\n",
    "count = 0\n",
    "MAX_DEPTH = 4\n",
    "MAX_COUNT = 20\n",
    "def getURL(url):\n",
    "    html = requests.get(url)\n",
    "    soup = BeautifulSoup(html.text,\"lxml\")\n",
    "    div = soup.find('div',class_='mw-parser-output')\n",
    "    p = div.find('p')\n",
    "    href = p.find_all('a')\n",
    "    return href\n",
    "def nextSearch(href,layer):\n",
    "    global count\n",
    "    count += 1\n",
    "    if count > MAX_COUNT:\n",
    "        return\n",
    "    for ref in href:\n",
    "        reftitle = str(ref.get('title'))\n",
    "        outTitle = \"  \"*layer + \"-\" + reftitle\n",
    "        if reftitle in abort:\n",
    "            continue\n",
    "        if reftitle in reached:\n",
    "            print(outTitle + '@')\n",
    "        else:\n",
    "            reached.append(reftitle)\n",
    "            if layer < MAX_DEPTH:\n",
    "                print(outTitle)\n",
    "                sleep(2)\n",
    "                nextSearch(getURL(base_url + ref.get('href')),layer + 1)\n",
    "            else:\n",
    "                print(outTitle + '$')\n",
    "def showTree(url,word):\n",
    "    print(word)\n",
    "    nextSearch(getURL(url),1)\n",
    "if __name__ == '__main__':\n",
    "    #print(\"Input URL\")\n",
    "    #word = input()\n",
    "    word = \"メタ構文変数\"\n",
    "    url = base_url + \"/wiki/\"+ urllib.parse.quote(word)\n",
    "    print(\"Start\")\n",
    "    showTree(url,word)"
   ]
  },
  {
   "cell_type": "code",
   "execution_count": null,
   "metadata": {},
   "outputs": [],
   "source": []
  }
 ],
 "metadata": {
  "kernelspec": {
   "display_name": "Python 3",
   "language": "python",
   "name": "python3"
  },
  "language_info": {
   "codemirror_mode": {
    "name": "ipython",
    "version": 3
   },
   "file_extension": ".py",
   "mimetype": "text/x-python",
   "name": "python",
   "nbconvert_exporter": "python",
   "pygments_lexer": "ipython3",
   "version": "3.7.6"
  }
 },
 "nbformat": 4,
 "nbformat_minor": 2
}
